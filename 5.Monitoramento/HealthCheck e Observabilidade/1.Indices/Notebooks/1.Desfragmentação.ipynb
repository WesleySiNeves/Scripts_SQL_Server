{
    "metadata": {
        "kernelspec": {
            "name": "SQL",
            "display_name": "SQL",
            "language": "sql"
        },
        "language_info": {
            "name": "sql",
            "version": ""
        }
    },
    "nbformat_minor": 2,
    "nbformat": 4,
    "cells": [
        {
            "cell_type": "markdown",
            "source": [
                "# O que são indices ?"
            ],
            "metadata": {
                "azdata_cell_guid": "144cb52a-eb2a-4d7b-b513-93056cfed8db"
            },
            "attachments": {}
        },
        {
            "cell_type": "markdown",
            "source": [
                "### Índices em bancos de dados relacionais, como o SQL Server, <mark>**são estruturas que melhoram a velocidade das operações de consulta em tabela**</mark>**s**.\n",
                "\n",
                "**Funcionam de forma semelhante a um índice em um livro,** permitindo que o SQL Server encontre rapidamente as linhas desejadas em uma tabela sem ter que verificar cada linha sequencialmente."
            ],
            "metadata": {
                "azdata_cell_guid": "b1f6ab75-d2b6-4fbd-babd-ddf49f878172"
            },
            "attachments": {}
        },
        {
            "cell_type": "markdown",
            "source": [
                "## <span style=\"color: rgb(22, 22, 22); font-family: &quot;Segoe UI&quot;, SegoeUI, &quot;Helvetica Neue&quot;, Helvetica, Arial, sans-serif; font-size: 16px; background-color: yellow;\"><b>Ter índices e estatísticas íntegros garantirá que qualquer plano seja executado com eficiência otimizada</b></span><span style=\"color:rgb(22, 22, 22);font-family:&quot;Segoe UI&quot;, SegoeUI, &quot;Helvetica Neue&quot;, Helvetica, Arial, sans-serif;font-size:16px;background-color:rgb(255, 255, 255);\">. A manutenção de índice deve ser executada regularmente, pois os dados em seus bancos de dados mudam ao longo do tempo. Você pode alterar sua estratégia de manutenção de índice com base na frequência de modificações em seus dados.</span>"
            ],
            "metadata": {
                "azdata_cell_guid": "15a3d792-d4c7-4be5-aa4e-25a15f09ce4e"
            },
            "attachments": {}
        },
        {
            "cell_type": "markdown",
            "source": [
                "Imagem entre Seek e Scan"
            ],
            "metadata": {
                "azdata_cell_guid": "bb8f0da6-abd5-4fdf-a96b-8776ac6f3757"
            },
            "attachments": {}
        },
        {
            "cell_type": "code",
            "source": [
                ""
            ],
            "metadata": {
                "azdata_cell_guid": "8146be9d-5d42-4fc8-9621-ebfcd311750b",
                "language": "sql"
            },
            "outputs": [],
            "execution_count": null
        },
        {
            "cell_type": "markdown",
            "source": [
                "## O problema da fragmentação de Indices"
            ],
            "metadata": {
                "language": "sql",
                "azdata_cell_guid": "1cb2b16c-6650-4dac-86eb-89bf66db254c"
            },
            "attachments": {}
        },
        {
            "cell_type": "markdown",
            "source": [
                "<span style=\"color: rgb(22, 22, 22); font-family: &quot;Segoe UI&quot;, SegoeUI, &quot;Helvetica Neue&quot;, Helvetica, Arial, sans-serif; font-size: 16px; background-color: rgb(255, 255, 255);\">A fragmentação de índice ocorre quando a ordenação lógica nas páginas de índice não corresponde à ordenação física. As páginas podem estar desordenadas durante instruções de modificação de dados de rotina, como&nbsp;</span>  `UPDATE`<span style=\"color: rgb(22, 22, 22); font-family: &quot;Segoe UI&quot;, SegoeUI, &quot;Helvetica Neue&quot;, Helvetica, Arial, sans-serif; font-size: 16px; background-color: rgb(255, 255, 255);\">,&nbsp;</span>  `DELETE`  <span style=\"color: rgb(22, 22, 22); font-family: &quot;Segoe UI&quot;, SegoeUI, &quot;Helvetica Neue&quot;, Helvetica, Arial, sans-serif; font-size: 16px; background-color: rgb(255, 255, 255);\">&nbsp;e&nbsp;</span>  `INSERT`<span style=\"color: rgb(22, 22, 22); font-family: &quot;Segoe UI&quot;, SegoeUI, &quot;Helvetica Neue&quot;, Helvetica, Arial, sans-serif; font-size: 16px; background-color: rgb(255, 255, 255);\">. A fragmentação pode apresentar problemas de desempenho devido à E/S adicional necessária para localizar os dados que estão sendo referenciados pelos ponteiros dentro das páginas de índice.</span>"
            ],
            "metadata": {
                "language": "sql",
                "azdata_cell_guid": "366d7edf-d740-4088-a306-5eea5f7d06cc"
            },
            "attachments": {}
        },
        {
            "cell_type": "markdown",
            "source": [
                "### O que é Fragmentação?\n",
                "\n",
                "#### Fragmentação Interna\n",
                "\n",
                "- **Definição**: Ocorre quando o espaço dentro das páginas de índice não é utilizado de maneira eficiente. Isso pode acontecer devido a operações de inserção, atualização e exclusão que causam lacunas nas páginas.\n",
                "- **Impacto**: Aumenta o número de páginas que precisam ser lidas para acessar os dados, afetando a performance de I/O.\n",
                "\n",
                "#### Fragmentação Externa\n",
                "\n",
                "- **Definição**: Acontece quando as páginas de dados ou índice não estão armazenadas de forma contígua no disco. Isso geralmente é resultado de divisões de páginas e alocações não contíguas durante operações DML (Data Manipulation Language).\n",
                "- **Impacto**: Reduz a eficiência de leitura sequencial, pois o cabeçote do disco precisa se mover para diferentes locais físicos para ler os dados."
            ],
            "metadata": {
                "language": "sql",
                "azdata_cell_guid": "439af64b-b615-436b-aba8-25490c53e733"
            },
            "attachments": {}
        },
        {
            "cell_type": "markdown",
            "source": [
                "<span style=\"font-size:14px;\">Como resolver ?&nbsp;</span>  **Recompilar e reorganizar**"
            ],
            "metadata": {
                "azdata_cell_guid": "dfca9bf2-f040-449b-adfd-4f7c09b10237"
            },
            "attachments": {}
        },
        {
            "cell_type": "markdown",
            "source": [
                "<span style=\"color:rgb(22, 22, 22);font-family:&quot;Segoe UI&quot;, SegoeUI, &quot;Helvetica Neue&quot;, Helvetica, Arial, sans-serif;font-size:16px;background-color:rgb(255, 255, 255);\"><b>A reorganização</b> de um índice é uma operação online que desfragmenta o nível folha do índice (clusterizado e não clusterizado). Esse processo de desfragmentação reordenará fisicamente as páginas de nível folha para corresponder à ordem lógica dos nós da esquerda para a direita. Durante esse processo, as páginas de índice também são compactadas com base no valor fillfactor configurado.</span>"
            ],
            "metadata": {
                "azdata_cell_guid": "da7f5a41-abf7-42fa-a094-f0df8477e950"
            },
            "attachments": {}
        },
        {
            "cell_type": "markdown",
            "source": [
                "<span style=\"color:rgb(22, 22, 22);font-family:&quot;Segoe UI&quot;, SegoeUI, &quot;Helvetica Neue&quot;, Helvetica, Arial, sans-serif;font-size:16px;background-color:rgb(255, 255, 255);\"><b>Uma recompilação</b> pode estar online ou offline, dependendo do comando executado ou da edição do SQL Server que está sendo usada. Um processo de recompilação offline removerá e recriará o índice. Se você puder fazer isso online, um novo índice será criado em paralelo ao índice existente. Depois de criar o índice, o índice existente será descartado e o novo será renomeado para corresponder ao nome do antigo</span>"
            ],
            "metadata": {
                "azdata_cell_guid": "7a4b7342-6d57-4dba-9eab-0f148f674e04"
            },
            "attachments": {}
        },
        {
            "cell_type": "markdown",
            "source": [
                "## Interpretação da Fragmentação\n",
                "\n",
                "- **Fragmentação baixa (\\<10%)**: Normalmente não é necessário tomar ação.\n",
                "- **Fragmentação moderada (10-30%)**: Considere reorganizar o índice.\n",
                "- **Fragmentação alta (\\>30%)**: Considere reconstruir o índice."
            ],
            "metadata": {
                "azdata_cell_guid": "cdd313cf-a3b3-420e-a021-24c5730edbb8"
            },
            "attachments": {}
        },
        {
            "cell_type": "markdown",
            "source": [
                "## Ações para Corrigir Fragmentação\n",
                "\n",
                "**Reorganizar Índice: Útil para fragmentação moderada. Usa menos recursos e é uma operação online.**"
            ],
            "metadata": {
                "azdata_cell_guid": "70d9f469-6d19-4b3e-9c2e-b7157d0da788"
            },
            "attachments": {}
        },
        {
            "cell_type": "code",
            "source": [
                "ALTER INDEX [NomeDoIndice] ON [MinhaTabela] REORGANIZE;"
            ],
            "metadata": {
                "vscode": {
                    "languageId": "sql"
                },
                "azdata_cell_guid": "48898478-f9fa-46c5-a1d0-1cc33c439d7c",
                "language": "sql"
            },
            "outputs": [],
            "execution_count": null
        },
        {
            "cell_type": "markdown",
            "source": [
                "**Reconstruir Índice: Útil para fragmentação alta. Pode ser uma operação offline, a menos que você use a opção ONLINE.**"
            ],
            "metadata": {
                "azdata_cell_guid": "a4cd2130-1ec5-4aa7-85d6-1bd9d7d8aeb9"
            },
            "attachments": {}
        },
        {
            "cell_type": "code",
            "source": [
                "ALTER INDEX [NomeDoIndice] ON [MinhaTabela] REBUILD;"
            ],
            "metadata": {
                "vscode": {
                    "languageId": "sql"
                },
                "azdata_cell_guid": "2b2bd86b-33a4-44b2-be4e-9ae68070b9d7",
                "language": "sql"
            },
            "outputs": [],
            "execution_count": null
        }
    ]
}