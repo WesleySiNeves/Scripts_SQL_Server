{
    "metadata": {
        "kernelspec": {
            "name": "SQL",
            "display_name": "SQL",
            "language": "sql"
        },
        "language_info": {
            "name": "sql",
            "version": ""
        }
    },
    "nbformat_minor": 2,
    "nbformat": 4,
    "cells": [
        {
            "cell_type": "markdown",
            "source": [
                "# O Que São Estatísticas?"
            ],
            "metadata": {
                "azdata_cell_guid": "144cb52a-eb2a-4d7b-b513-93056cfed8db"
            },
            "attachments": {}
        },
        {
            "cell_type": "markdown",
            "source": [
                "### Estatísticas no SQL Server, incluindo o Azure SQL Database, são coleções de informações sobre a distribuição de valores de dados em uma ou mais colunas de uma tabela ou exibição indexada. Essas estatísticas são armazenadas como objetos binários grandes (BLOBs) no banco de dados do usuário."
            ],
            "metadata": {
                "azdata_cell_guid": "b1f6ab75-d2b6-4fbd-babd-ddf49f878172"
            },
            "attachments": {}
        },
        {
            "cell_type": "markdown",
            "source": [
                "#### Como as Estatísticas Funcionam?\n",
                "\n",
                "## \n",
                "\n",
                "- **Distribuição de Dados**: Estatísticas contêm informações sobre como os dados são distribuídos dentro de uma coluna. Isso inclui detalhes como a frequência dos valores e a distribuição dos intervalos de valores.\n",
                "- **Cardinalidade**: A cardinalidade refere-se ao número de linhas que uma consulta é esperada retornar. As estatísticas ajudam o otimizador de consultas a estimar a cardinalidade de uma consulta."
            ],
            "metadata": {
                "azdata_cell_guid": "15a3d792-d4c7-4be5-aa4e-25a15f09ce4e"
            },
            "attachments": {}
        },
        {
            "cell_type": "markdown",
            "source": [
                "#### Papel das Estatísticas no Planejamento de Execução\n",
                "\n",
                "- **Estimativas de Cardinalidade**: O otimizador de consultas usa estatísticas para calcular a cardinalidade, ou seja, o número esperado de linhas que uma consulta vai retornar. Essas estimativas são fundamentais para o planejamento de execução.\n",
                "- **Geração do Plano de Execução**: Com base nas estimativas de cardinalidade, o otimizador de consultas decide o melhor plano de execução para uma consulta. Isso inclui a escolha de operações como busca por índice (index seek) ou varredura de índice (index scan)."
            ],
            "metadata": {
                "azdata_cell_guid": "bb8f0da6-abd5-4fdf-a96b-8776ac6f3757"
            },
            "attachments": {}
        },
        {
            "cell_type": "code",
            "source": [
                ""
            ],
            "metadata": {
                "azdata_cell_guid": "8146be9d-5d42-4fc8-9621-ebfcd311750b",
                "language": "sql"
            },
            "outputs": [],
            "execution_count": null
        },
        {
            "cell_type": "markdown",
            "source": [
                "# Impacto das Estatísticas no Desempenho"
            ],
            "metadata": {
                "language": "sql",
                "azdata_cell_guid": "1cb2b16c-6650-4dac-86eb-89bf66db254c"
            },
            "attachments": {}
        },
        {
            "cell_type": "markdown",
            "source": [
                "####   \n",
                "\n",
                "1. **Precisão nas Estimativas**: Estatísticas precisas levam a estimativas de cardinalidade precisas, o que resulta em planos de execução mais eficientes.\n",
                "2. **Escolha das Operações de Acesso**: O otimizador pode escolher entre uma busca por índice (mais eficiente) ou uma varredura de índice (menos eficiente) com base na cardinalidade estimada.\n",
                "3. **Uso de Recursos**: Planos de execução eficientes utilizam menos recursos, como CPU, memória e I/O, resultando em melhor desempenho geral do banco de dados."
            ],
            "metadata": {
                "language": "sql",
                "azdata_cell_guid": "366d7edf-d740-4088-a306-5eea5f7d06cc"
            },
            "attachments": {}
        },
        {
            "cell_type": "markdown",
            "source": [
                ""
            ],
            "metadata": {
                "language": "sql",
                "azdata_cell_guid": "439af64b-b615-436b-aba8-25490c53e733"
            },
            "attachments": {}
        },
        {
            "cell_type": "markdown",
            "source": [
                "### Exemplos Práticos de Uso de Estatísticas\n",
                "\n",
                "#### Consulta de Exemplo"
            ],
            "metadata": {
                "azdata_cell_guid": "dfca9bf2-f040-449b-adfd-4f7c09b10237"
            },
            "attachments": {}
        },
        {
            "cell_type": "code",
            "source": [
                "SELECT * \n",
                "FROM Sales.Orders \n",
                "WHERE OrderDate = '2024-01-01';\n",
                ""
            ],
            "metadata": {
                "azdata_cell_guid": "da7f5a41-abf7-42fa-a094-f0df8477e950",
                "language": ""
            },
            "outputs": [],
            "execution_count": null
        },
        {
            "cell_type": "markdown",
            "source": [
                "- **Cardinalidade Estimada**: O otimizador de consultas usa estatísticas sobre a coluna `OrderDate` para estimar quantas linhas serão retornadas.\n",
                "- **Plano de Execução**: Com base nessa estimativa, o otimizador decide se deve usar uma busca por índice ou uma varredura de índice."
            ],
            "metadata": {
                "azdata_cell_guid": "7a4b7342-6d57-4dba-9eab-0f148f674e04"
            },
            "attachments": {}
        },
        {
            "cell_type": "markdown",
            "source": [
                "#### Gerenciamento de Estatísticas\n",
                "\n",
                "## \n",
                "\n",
                "- **Criação de Estatísticas**:"
            ],
            "metadata": {
                "azdata_cell_guid": "cdd313cf-a3b3-420e-a021-24c5730edbb8"
            },
            "attachments": {}
        },
        {
            "cell_type": "code",
            "source": [
                "CREATE STATISTICS OrderDateStats\r\n",
                "ON Sales.Orders (OrderDate);\r\n",
                ""
            ],
            "metadata": {
                "azdata_cell_guid": "af07bbde-baed-4875-a199-376762ce33d9",
                "language": "sql"
            },
            "outputs": [],
            "execution_count": null
        },
        {
            "cell_type": "markdown",
            "source": [
                "## **Atualização de Estatísticas**: As estatísticas podem se tornar desatualizadas à medida que os dados mudam. O SQL Server pode atualizar automaticamente as estatísticas, mas em alguns casos, pode ser necessário atualizar manualmente."
            ],
            "metadata": {
                "azdata_cell_guid": "70d9f469-6d19-4b3e-9c2e-b7157d0da788"
            },
            "attachments": {}
        },
        {
            "cell_type": "code",
            "source": [
                "UPDATE STATISTICS Sales.Orders (OrderDateStats);\r\n",
                ""
            ],
            "metadata": {
                "vscode": {
                    "languageId": "sql"
                },
                "azdata_cell_guid": "48898478-f9fa-46c5-a1d0-1cc33c439d7c",
                "language": "sql"
            },
            "outputs": [],
            "execution_count": null
        },
        {
            "cell_type": "markdown",
            "source": [
                "### Boas Práticas no Gerenciamento de Estatísticas\n",
                "\n",
                "1. **Monitoramento Regular**: Monitorar a precisão das estatísticas regularmente e atualizá-las conforme necessário.\n",
                "2. **Manutenção Automática**: Configurar a manutenção automática de estatísticas para garantir que elas sejam atualizadas conforme os dados mudam.\n",
                "3. **Uso de Histogramas**: Entender e utilizar histogramas, que são parte das estatísticas que fornecem uma visão detalhada da distribuição dos dados.\n",
                "4. **Recompilação de Consultas**: Em alguns casos, pode ser necessário recompilar consultas para garantir que o otimizador utilize as estatísticas mais recentes."
            ],
            "metadata": {
                "azdata_cell_guid": "a4cd2130-1ec5-4aa7-85d6-1bd9d7d8aeb9"
            },
            "attachments": {}
        },
        {
            "cell_type": "markdown",
            "source": [
                "Query para identificar todas as statisticas"
            ],
            "metadata": {
                "azdata_cell_guid": "0be587e4-9f42-4752-84d7-5e7f6b512cc7"
            },
            "attachments": {}
        },
        {
            "cell_type": "code",
            "source": [
                "SELECT \r\n",
                "    st.stats_id,\r\n",
                "    st.name AS stats_name,\r\n",
                "    sp.last_updated,\r\n",
                "    sp.rows,\r\n",
                "    sp.rows_sampled,\r\n",
                "    col.name AS key_column_name\r\n",
                "FROM \r\n",
                "    sys.stats st\r\n",
                "    JOIN sys.tables tab ON st.object_id = tab.object_id\r\n",
                "    CROSS APPLY sys.dm_db_stats_properties(st.object_id, st.stats_id) AS sp\r\n",
                "    JOIN sys.stats_columns sc ON st.object_id = sc.object_id AND st.stats_id = sc.stats_id\r\n",
                "    JOIN sys.columns col ON sc.object_id = col.object_id AND sc.column_id = col.column_id\r\n",
                "WHERE \r\n",
                "    st.user_created = 0\r\n",
                "    AND sp.rows > 1000\r\n",
                "ORDER BY \r\n",
                "    st.name, col.column_id;\r\n",
                ""
            ],
            "metadata": {
                "azdata_cell_guid": "7355fc3a-c8cf-4d05-81ad-64f1a0bea45e",
                "language": "sql"
            },
            "outputs": [],
            "execution_count": null
        }
    ]
}