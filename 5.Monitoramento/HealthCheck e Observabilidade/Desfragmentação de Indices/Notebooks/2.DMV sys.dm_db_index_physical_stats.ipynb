{
    "metadata": {
        "kernelspec": {
            "name": "SQL",
            "display_name": "SQL",
            "language": "sql"
        },
        "language_info": {
            "name": "sql",
            "version": ""
        }
    },
    "nbformat_minor": 2,
    "nbformat": 4,
    "cells": [
        {
            "cell_type": "markdown",
            "source": [
                "# **sys.dm\\_db\\_index\\_physical\\_stats**"
            ],
            "metadata": {
                "azdata_cell_guid": "144cb52a-eb2a-4d7b-b513-93056cfed8db"
            },
            "attachments": {}
        },
        {
            "cell_type": "markdown",
            "source": [
                "## O problema da fragmentação de Indices"
            ],
            "metadata": {
                "language": "sql",
                "azdata_cell_guid": "1cb2b16c-6650-4dac-86eb-89bf66db254c"
            },
            "attachments": {}
        },
        {
            "cell_type": "markdown",
            "source": [
                "<span style=\"color: rgb(22, 22, 22); font-family: &quot;Segoe UI&quot;, SegoeUI, &quot;Helvetica Neue&quot;, Helvetica, Arial, sans-serif; font-size: 16px;\"><b style=\"background-color: yellow;\">A fragmentação de índice ocorre quando a ordenação lógica nas páginas de índice não corresponde à ordenação física</b><span style=\"background-color: rgb(255, 255, 255);\">. As páginas podem estar desordenadas durante instruções de modificação de dados de rotina, como&nbsp;</span></span>   `UPDATE`<span style=\"color:rgb(22, 22, 22);font-family:&quot;Segoe UI&quot;, SegoeUI, &quot;Helvetica Neue&quot;, Helvetica, Arial, sans-serif;font-size:16px;background-color:rgb(255, 255, 255);\">,&nbsp;</span>   `DELETE`   <span style=\"color:rgb(22, 22, 22);font-family:&quot;Segoe UI&quot;, SegoeUI, &quot;Helvetica Neue&quot;, Helvetica, Arial, sans-serif;font-size:16px;background-color:rgb(255, 255, 255);\">&nbsp;e&nbsp;</span>   `INSERT`<span style=\"color:rgb(22, 22, 22);font-family:&quot;Segoe UI&quot;, SegoeUI, &quot;Helvetica Neue&quot;, Helvetica, Arial, sans-serif;font-size:16px;background-color:rgb(255, 255, 255);\">. </span> <span style=\"color: rgb(22, 22, 22); font-family: &quot;Segoe UI&quot;, SegoeUI, &quot;Helvetica Neue&quot;, Helvetica, Arial, sans-serif; font-size: 16px; background-color: yellow;\"><b>A fragmentação pode apresentar problemas de desempenho devido à E/S adicional necessária para localizar os dados que estão sendo referenciados pelos ponteiros dentro das páginas de índice.</b></span>"
            ],
            "metadata": {
                "language": "sql",
                "azdata_cell_guid": "366d7edf-d740-4088-a306-5eea5f7d06cc"
            },
            "attachments": {}
        },
        {
            "cell_type": "markdown",
            "source": [
                ""
            ],
            "metadata": {
                "language": "sql",
                "azdata_cell_guid": "439af64b-b615-436b-aba8-25490c53e733"
            },
            "attachments": {}
        },
        {
            "cell_type": "markdown",
            "source": [
                "<span style=\"font-size:14px;\">Como resolver ?&nbsp;</span>  **Recompilar e reorganizar**"
            ],
            "metadata": {
                "azdata_cell_guid": "dfca9bf2-f040-449b-adfd-4f7c09b10237"
            },
            "attachments": {}
        },
        {
            "cell_type": "markdown",
            "source": [
                "<span style=\"color:rgb(22, 22, 22);font-family:&quot;Segoe UI&quot;, SegoeUI, &quot;Helvetica Neue&quot;, Helvetica, Arial, sans-serif;font-size:16px;background-color:rgb(255, 255, 255);\"><b>A reorganização</b> de um índice é uma operação online que desfragmenta o nível folha do índice (clusterizado e não clusterizado). Esse processo de desfragmentação reordenará fisicamente as páginas de nível folha para corresponder à ordem lógica dos nós da esquerda para a direita. Durante esse processo, as páginas de índice também são compactadas com base no valor fillfactor configurado.</span>"
            ],
            "metadata": {
                "azdata_cell_guid": "da7f5a41-abf7-42fa-a094-f0df8477e950"
            },
            "attachments": {}
        },
        {
            "cell_type": "markdown",
            "source": [
                "<span style=\"color:rgb(22, 22, 22);font-family:&quot;Segoe UI&quot;, SegoeUI, &quot;Helvetica Neue&quot;, Helvetica, Arial, sans-serif;font-size:16px;background-color:rgb(255, 255, 255);\"><b>Uma recompilação</b> pode estar online ou offline, dependendo do comando executado ou da edição do SQL Server que está sendo usada. Um processo de recompilação offline removerá e recriará o índice. Se você puder fazer isso online, um novo índice será criado em paralelo ao índice existente. Depois de criar o índice, o índice existente será descartado e o novo será renomeado para corresponder ao nome do antigo</span>"
            ],
            "metadata": {
                "azdata_cell_guid": "7a4b7342-6d57-4dba-9eab-0f148f674e04"
            },
            "attachments": {}
        },
        {
            "cell_type": "markdown",
            "source": [
                "## **Estrutura da DMV sys.dm\\_db\\_index\\_physical\\_stats**"
            ],
            "metadata": {
                "azdata_cell_guid": "385f5658-2499-46ea-b989-da4f2ecd851d"
            },
            "attachments": {}
        },
        {
            "cell_type": "markdown",
            "source": [
                "##   \n",
                "\n",
                "sys.dm\\_db\\_index\\_physical\\_stats (\n",
                "\n",
                "    { database\\_id | NULL | 0 | DEFAULT },\n",
                "\n",
                "    { object\\_id | NULL | 0 | DEFAULT },\n",
                "\n",
                "    { index\\_id | NULL | 0 | -1 | DEFAULT },\n",
                "\n",
                "    { partition\\_number | NULL | 0 | -1 | DEFAULT },\n",
                "\n",
                "    { mode | 'LIMITED' | 'SAMPLED' | 'DETAILED' }\n",
                "\n",
                ")"
            ],
            "metadata": {
                "azdata_cell_guid": "28b8d090-585e-47ef-9ddd-598cdd2028f0"
            },
            "attachments": {}
        },
        {
            "cell_type": "markdown",
            "source": [
                "### Parâmetros\n",
                "\n",
                "1. **database\\_id**: ID do banco de dados. Use `NULL` ou `DEFAULT` para o banco de dados atual.\n",
                "2. **object\\_id**: ID da tabela ou visualização indexada. Use `NULL` para todos os objetos.\n",
                "3. **index\\_id**: ID do índice. Use `NULL` para todos os índices.\n",
                "4. **partition\\_number**: Número da partição. Use `NULL` para todas as partições.\n",
                "5. **mode**: Nível de detalhamento da análise. Pode ser:\n",
                "    - `'LIMITED'`: Menos detalhado, mais rápido. Analisa apenas o nível raiz e o nível folha do índice.\n",
                "    - `'SAMPLED'`: Mostra uma amostra de páginas no índice, o que pode ser mais rápido do que uma verificação completa.\n",
                "    - `'DETAILED'`: Analisa todas as páginas em um índice. É mais detalhado, mas pode ser lento para índices grandes."
            ],
            "metadata": {
                "azdata_cell_guid": "9610406f-eb71-4fa7-a310-ed7c1dfecce7"
            },
            "attachments": {}
        },
        {
            "cell_type": "markdown",
            "source": [
                "## Colunas retornadas"
            ],
            "metadata": {
                "azdata_cell_guid": "94e2b7b7-c25b-4e00-8d1d-cae10a9bcf58"
            }
        },
        {
            "cell_type": "markdown",
            "source": [
                "### Colunas Retornadas\n",
                "\n",
                "A DMV `sys.dm_db_index_physical_stats` retorna várias colunas úteis, incluindo:\n",
                "\n",
                "- ## Tabela retornada\n",
                "    \n",
                "    Expandir a tabela\n",
                "    \n",
                "    | Nome da coluna | Tipo de dados | Descrição |\n",
                "    | --- | --- | --- |\n",
                "    | database\\_id | smallint | Identificação do banco de dados da tabela ou exibição.<br><br>No Banco de Dados SQL do Azure, os valores são exclusivos em um único banco de dados ou em um pool elástico, mas não em um servidor lógico. |\n",
                "    | object\\_id | int | Identificação de objeto da tabela ou exibição na qual o índice se encontra. |\n",
                "    | index\\_id | int | Identificação de um índice.<br><br>0 = Heap. |\n",
                "    | partition\\_number | int | Número de partição de base 1 no objeto proprietário; uma tabela, exibição ou índice.<br><br>1 = Índice ou heap não particionado. |\n",
                "    | index\\_type\\_desc | nvarchar(60) | Descrição do tipo de índice:<br><br>– HEAP<br>\\- ÍNDICE AGRUPADO<br>\\- ÍNDICE NÃO CLUSTERIZADO<br>\\- ÍNDICE XML PRIMÁRIO<br>\\- ÍNDICE ESTENDIDO<br>\\- ÍNDICE XML<br>\\- ÍNDICE DE MAPEAMENTO COLUMNSTORE (interno)<br>\\- ÍNDICE COLUMNSTORE DELETEBUFFER (interno)<br>\\- COLUMNSTORE DELETEÍNDICE DE BITMAP (interno) |\n",
                "    | hobt\\_id | bigint | Heap ou ID de árvore B do índice ou partição.<br><br>Para índices columnstore, essa é a ID de um conjunto de linhas que rastreia dados internos de columnstore para uma partição. Os conjuntos de linhas são armazenados como heaps de dados ou árvores B. Eles têm a mesma ID de índice que o índice columnstore pai. Para obter mais informações, consulte [sys.internal\\_partitions (Transact-SQL).](https://learn.microsoft.com/pt-br/sql/relational-databases/system-catalog-views/sys-internal-partitions-transact-sql?view=sql-server-ver16) |\n",
                "    | alloc\\_unit\\_type\\_desc | nvarchar(60) | Descrição do tipo de unidade de alocação:<br><br>\\- IN\\_ROW\\_DATA<br>\\- LOB\\_DATA<br>\\- ROW\\_OVERFLOW\\_DATA<br><br>A `LOB_DATA` unidade de alocação contém os dados armazenados em colunas do tipo text, ntext, image, varchar(max), nvarchar(max), varbinary(max) e xml. Para obter mais informações, consulte [Tipos de dados (Transact-SQL)](https://learn.microsoft.com/pt-br/sql/t-sql/data-types/data-types-transact-sql?view=sql-server-ver16).<br><br>A `ROW_OVERFLOW_DATA` unidade de alocação contém os dados armazenados em colunas do tipo varchar(n), nvarchar(n), varbinary(n) e sql\\_variant que foram enviadas para fora da linha. |\n",
                "    | index\\_depth | tinyint | Número de níveis de índice.<br><br>1 = Heap, ou `LOB_DATA` ou `ROW_OVERFLOW_DATA` unidade de alocação. |\n",
                "    | index\\_level | tinyint | Nível atual do índice.<br><br>0 para níveis leaf de índice, heaps e `LOB_DATA` /ou `ROW_OVERFLOW_DATA` unidades de alocação.<br><br>Maior que 0 para níveis de índice nonleaf.   index\\_level é o mais alto no nível raiz de um índice.<br><br>Os níveis não folha de índices são processados apenas quando _mode_ = DETAILED. |\n",
                "    | avg\\_fragmentation\\_in\\_percent | float | Fragmentação lógica para índices ou fragmentação de extensão para heaps na `IN_ROW_DATA` unidade de alocação.<br><br>O valor é medido como uma porcentagem e leva em consideração vários arquivos. Para definições de fragmentação lógica e de extensão, consulte Comentários.<br><br>0 para `LOB_DATA` e `ROW_OVERFLOW_DATA` unidades de alocação.<br><br>NULL para heaps quando _mode_ = SAMPLED. |\n",
                "    | fragment\\_count | bigint | Número de fragmentos no nível folha de uma `IN_ROW_DATA` unidade de alocação. Para obter mais informações sobre fragmentos, consulte Comentários.<br><br>NULL para níveis não folha de um índice e `LOB_DATA` /ou `ROW_OVERFLOW_DATA` unidades de alocação.<br><br>NULL para heaps quando _mode_ = SAMPLED. |\n",
                "    | avg\\_fragment\\_size\\_in\\_pages | float | Número médio de páginas em um fragmento no nível folha de uma `IN_ROW_DATA` unidade de alocação.<br><br>NULL para níveis não folha de um índice e `LOB_DATA` /ou `ROW_OVERFLOW_DATA` unidades de alocação.<br><br>NULL para heaps quando _mode_ = SAMPLED. |\n",
                "    | page\\_count | bigint | Número total de páginas de índice ou dados.<br><br>Para um índice, o número total de páginas de índice no nível atual da árvore B na `IN_ROW_DATA` unidade de alocação.<br><br>Para um heap, o número total de páginas de dados na `IN_ROW_DATA` unidade de alocação.<br><br>Para `LOB_DATA` unidades de alocação ou `ROW_OVERFLOW_DATA` , número total de páginas na unidade de alocação. |\n",
                "    | avg\\_page\\_space\\_used\\_in\\_percent | float | Porcentagem média de espaço de armazenamento de dados disponível usada em todas as páginas.<br><br>Para um índice, a média se aplica ao nível atual da árvore B na `IN_ROW_DATA` unidade de alocação.<br><br>Para um heap, a média de todas as páginas de dados na `IN_ROW_DATA` unidade de alocação.<br><br>Para `LOB_DATA` unidades de alocação ou `ROW_OVERFLOW_DATA` , a média de todas as páginas na unidade de alocação.<br><br>NULL quando _mode_ = LIMITED. |\n",
                "    | record\\_count | bigint | Número total de registros.<br><br>Para um índice, o número total de registros se aplica ao nível atual da árvore B na `IN_ROW_DATA` unidade de alocação.<br><br>Para um heap, o número total de registros na `IN_ROW_DATA` unidade de alocação.<br><br>Observação: Para um heap, o número de registros retornados dessa função pode não corresponder ao número de linhas retornadas pela execução de um `SELECT COUNT(*)` heap. Isso porque uma linha pode conter vários registros. Por exemplo, em algumas situações de atualização, uma única linha de heap pode ter um registro de encaminhamento e um registro encaminhado como resultado de uma operação de atualização. Além disso, a maioria das linhas LOB grandes é dividida em vários registros no `LOB_DATA` armazenamento.<br><br>Para `LOB_DATA` unidades de alocação ou `ROW_OVERFLOW_DATA` , o número total de registros na unidade de alocação completa.<br><br>NULL quando _mode_ = LIMITED. |\n",
                "    | ghost\\_record\\_count | bigint | Número de registros fantasmas prontos para remoção pela tarefa de limpeza fantasma na unidade de alocação.<br><br>0 para níveis não folha de um índice na `IN_ROW_DATA` unidade de alocação.<br><br>NULL quando _mode_ = LIMITED. |\n",
                "    | version\\_ghost\\_record\\_count | bigint | Número de registros fantasmas retidos por uma transação de isolamento de instantâneo pendente em uma unidade de alocação.<br><br>0 para níveis não folha de um índice na `IN_ROW_DATA` unidade de alocação.<br><br>NULL quando _mode_ = LIMITED. |\n",
                "    | min\\_record\\_size\\_in\\_bytes | int | Tamanho de registro mínimo em bytes.<br><br>Para um índice, o tamanho mínimo do registro se aplica ao nível atual da árvore B na `IN_ROW_DATA` unidade de alocação.<br><br>Para um heap, o tamanho mínimo do `IN_ROW_DATA` registro na unidade de alocação.<br><br>Para `LOB_DATA` unidades de alocação ou `ROW_OVERFLOW_DATA` , o tamanho mínimo do registro na unidade de alocação completa.<br><br>NULL quando _mode_ = LIMITED. |\n",
                "    | max\\_record\\_size\\_in\\_bytes | int | Tamanho de registro máximo em bytes.<br><br>Para um índice, o tamanho máximo do registro se aplica ao nível atual da árvore B na `IN_ROW_DATA` unidade de alocação.<br><br>Para um heap, o tamanho máximo do `IN_ROW_DATA` registro na unidade de alocação.<br><br>Para `LOB_DATA` unidades de alocação ou `ROW_OVERFLOW_DATA` , o tamanho máximo do registro na unidade de alocação completa.<br><br>NULL quando _mode_ = LIMITED. |\n",
                "    | avg\\_record\\_size\\_in\\_bytes | float | Tamanho de registro médio em bytes.<br><br>Para um índice, o tamanho médio do registro se aplica ao nível atual da árvore B na `IN_ROW_DATA` unidade de alocação.<br><br>Para um heap, o tamanho médio do `IN_ROW_DATA` registro na unidade de alocação.<br><br>Para `LOB_DATA` unidades de alocação ou `ROW_OVERFLOW_DATA` , o tamanho médio do registro na unidade de alocação completa.<br><br>NULL quando _mode_ = LIMITED. |\n",
                "    | forwarded\\_record\\_count | bigint | Número de registros em um heap com ponteiros encaminhados a outro local de dados. (Esse estado ocorre durante uma atualização, quando não há espaço suficiente para armazenar a nova linha no local original.)<br><br>NULL para qualquer unidade de alocação diferente das `IN_ROW_DATA` unidades de alocação de um heap.<br><br>NULL para heaps quando _mode_ = LIMITED. |\n",
                "    | compressed\\_page\\_count | bigint | O número total de páginas compactadas.<br><br>Para heaps, as páginas recém-alocadas não são compactadas PAGE. Um heap é compactado com PAGE em duas condições especiais: quando os dados são importados em massa ou quando um heap é reconstruído. As operações DML típicas que causam alocações de página não são compactadas PAGE. Recompile um heap quando o `compressed_page_count` valor crescer maior do que o limite desejado.<br><br>Para tabelas que têm um índice clusterizado, o `compressed_page_count` valor indica a eficácia da compactação PAGE. |\n",
                "    | columnstore\\_delete\\_buffer\\_state | tinyint | 0 = NOT\\_APPLICABLE<br>1 = OPEN<br>2 = DRENAGEM<br>3 = LAVAGEM<br>4 = APOSENTADORIA<br>5 = PRONTO<br><br>Aplica-se a: SQL Server 2016 (13.x) e versões posteriores, Banco de Dados SQL do Azure e Instância Gerenciada de SQL do Azure |\n",
                "    | columnstore\\_delete\\_buffer\\_state\\_desc | nvarchar(60) | NOT VALID – o índice pai não é um índice columnstore.<br><br>OPEN - deleters e scanners usam isso.<br><br>DRENANDO - os deletores estão drenando, mas os scanners ainda o usam.<br><br>FLUSHING - o buffer é fechado e as linhas no buffer estão sendo gravadas no bitmap de exclusão.<br><br>RETIRING - as linhas no buffer de exclusão fechado foram gravadas no bitmap de exclusão, mas o buffer não foi truncado porque os scanners ainda o estão usando. Novos scanners não precisam usar o buffer de desativação porque o buffer aberto é suficiente.<br><br>READY - Este buffer de exclusão está pronto para uso.<br><br>Aplica-se a: SQL Server 2016 (13.x) e versões posteriores, Banco de Dados SQL do Azure e Instância Gerenciada de SQL do Azure |\n",
                "    | version\\_record\\_count | bigint | Essa é a contagem dos registros de versão de linha que estão sendo mantidos nesse índice. Essas versões de linha são mantidas pelo recurso Recuperação [Acelerada de](https://learn.microsoft.com/pt-br/sql/relational-databases/accelerated-database-recovery-concepts?view=sql-server-ver16) Banco de Dados.<br><br>Aplica-se a: SQL Server 2019 (15.x) e versões posteriores e Banco de Dados SQL do Azure |\n",
                "    | inrow\\_version\\_record\\_count | bigint | Contagem de registros de versão ADR mantidos na linha de dados para recuperação rápida.<br><br>Aplica-se a: SQL Server 2019 (15.x) e versões posteriores e Banco de Dados SQL do Azure |\n",
                "    | inrow\\_diff\\_version\\_record\\_count | bigint | Contagem de registros de versão ADR mantidos na forma de diferenças em relação à versão base.<br><br>Aplica-se a: SQL Server 2019 (15.x) e versões posteriores e Banco de Dados SQL do Azure |\n",
                "    | total\\_inrow\\_version\\_payload\\_size\\_in\\_bytes | bigint | Tamanho total em bytes dos registros de versão em linha para esse índice.<br><br>Aplica-se a: SQL Server 2019 (15.x) e versões posteriores e Banco de Dados SQL do Azure |\n",
                "    | offrow\\_regular\\_version\\_record\\_count | bigint | Contagem de registros de versão mantidos fora da linha de dados original.<br><br>Aplica-se a: SQL Server 2019 (15.x) e versões posteriores e Banco de Dados SQL do Azure |\n",
                "    | offrow\\_long\\_term\\_version\\_record\\_count | bigint | Contagem de registros de versão considerados de longo prazo.<br><br>Aplica-se a: SQL Server 2019 (15.x) e versões posteriores e Banco de Dados SQL do Azur |"
            ],
            "metadata": {
                "azdata_cell_guid": "df9c7874-5d9c-427e-b306-18fe0fbb0812"
            },
            "attachments": {}
        },
        {
            "cell_type": "markdown",
            "source": [
                "# \\## Vamos detalhar esses valores"
            ],
            "metadata": {
                "azdata_cell_guid": "dd746a2f-d784-41c3-ace5-b18f4ecb3321"
            },
            "attachments": {}
        },
        {
            "cell_type": "markdown",
            "source": [
                "#### `object_id`\n",
                "\n",
                "- **Descrição**: Identificação do objeto (tabela ou exibição) no qual o índice está presente.\n",
                "- **Tipo de dados**: `int`\n",
                "- **Notas**: Cada tabela ou exibição em um banco de dados SQL tem um identificador único, o `object_id`. Este ID é usado para identificar o objeto específico ao qual o índice pertence.\n",
                "\n",
                "#### `index_id`\n",
                "\n",
                "- **Descrição**: Identificação de um índice.\n",
                "- **Tipo de dados**: `int`\n",
                "- **Notas**: Valores comuns incluem:\n",
                "    - `0` para heaps (tabelas sem índice clusterizado).\n",
                "    - `1` para índices clusterizados.\n",
                "    - Outros valores são para índices não clusterizados.\n",
                "\n",
                "#### `partition_number`\n",
                "\n",
                "- **Descrição**: Número de partição (base 1) no objeto proprietário (tabela, exibição ou índice).\n",
                "- **Tipo de dados**: `int`\n",
                "- **Notas**: Em tabelas ou índices particionados, este número indica a partição específica. Para tabelas ou índices não particionados, o valor é `1`.\n",
                "\n",
                "#### `index_type_desc`\n",
                "\n",
                "- **Descrição**: Descrição do tipo de índice.\n",
                "- **Tipo de dados**: `nvarchar(60)`\n",
                "- **Notas**: Valores possíveis incluem:\n",
                "    - `HEAP`\n",
                "    - `CLUSTERED INDEX`\n",
                "    - `NONCLUSTERED INDEX`\n",
                "    - `XML PRIMARY INDEX`\n",
                "    - `XML INDEX`\n",
                "    - Outros tipos de índices específicos.\n",
                "        \n",
                "        #### `alloc_unit_type_desc`\n",
                "        \n",
                "        #### \n",
                "        \n",
                "        - **Descrição**: Descrição do tipo de unidade de alocação.\n",
                "        - **Tipo de dados**: `nvarchar(60)`\n",
                "        - **Notas**: Valores incluem:\n",
                "            - `IN_ROW_DATA`: Dados armazenados dentro da linha.\n",
                "            - `LOB_DATA`: Dados de objetos grandes, como `text`, `ntext`, `image`, `varchar(max)`, `nvarchar(max)`, `varbinary(max)`, e `xml`.\n",
                "            - `ROW_OVERFLOW_DATA`: Dados de colunas `varchar`, `nvarchar`, `varbinary` que excedem o limite de tamanho da linha."
            ],
            "metadata": {
                "azdata_cell_guid": "eb6e51df-e87b-4509-8b2f-8471ba1d3000"
            },
            "attachments": {}
        },
        {
            "cell_type": "markdown",
            "source": [
                "### Exemplos de Uso\n",
                "\n",
                "1. **Análise Rápida de Todos os Índices em uma Tabela Específica:**"
            ],
            "metadata": {
                "azdata_cell_guid": "87a568d5-ec64-4f4b-a961-f94ab5c0cb47"
            },
            "attachments": {}
        },
        {
            "cell_type": "code",
            "source": [
                "SELECT *\r\n",
                "FROM sys.dm_db_index_physical_stats (\r\n",
                "    DB_ID(),               -- database_id\r\n",
                "    OBJECT_ID('MinhaTabela'), -- object_id\r\n",
                "    NULL,                  -- index_id\r\n",
                "    NULL,                  -- partition_number\r\n",
                "    'LIMITED'              -- mode\r\n",
                ");\r\n",
                ""
            ],
            "metadata": {
                "azdata_cell_guid": "22a67d7a-d80b-454b-b4df-3097c1165f87",
                "language": "sql"
            },
            "outputs": [],
            "execution_count": null
        },
        {
            "cell_type": "markdown",
            "source": [
                "> **2.Análise Detalhada de um Índice Específico:**"
            ],
            "metadata": {
                "language": "sql",
                "azdata_cell_guid": "e74a8b78-f2f8-4f96-96f8-2a745e74077e"
            },
            "attachments": {}
        },
        {
            "cell_type": "code",
            "source": [
                "SELECT *\r\n",
                "FROM sys.dm_db_index_physical_stats (\r\n",
                "    DB_ID(),               -- database_id\r\n",
                "    OBJECT_ID('MinhaTabela'), -- object_id\r\n",
                "    1,                     -- index_id\r\n",
                "    NULL,                  -- partition_number\r\n",
                "    'DETAILED'             -- mode\r\n",
                ");\r\n",
                ""
            ],
            "metadata": {
                "azdata_cell_guid": "c426165f-6ec2-4a63-af57-079d61108135",
                "language": "sql"
            },
            "outputs": [],
            "execution_count": null
        },
        {
            "cell_type": "markdown",
            "source": [
                "> **3.Análise Amostrada de Todos os Índices em Todos os Objetos do Banco de Dados Atual:**"
            ],
            "metadata": {
                "language": "sql",
                "azdata_cell_guid": "2ec83d32-7040-4963-b89e-7504418db9b8"
            },
            "attachments": {}
        },
        {
            "cell_type": "code",
            "source": [
                "SELECT *\r\n",
                "FROM sys.dm_db_index_physical_stats (\r\n",
                "    NULL,                  -- database_id\r\n",
                "    NULL,                  -- object_id\r\n",
                "    NULL,                  -- index_id\r\n",
                "    NULL,                  -- partition_number\r\n",
                "    'SAMPLED'              -- mode\r\n",
                ");\r\n",
                ""
            ],
            "metadata": {
                "language": "sql",
                "azdata_cell_guid": "41ca9596-9f8f-4687-9455-061f9347ae03"
            },
            "outputs": [],
            "execution_count": null
        }
    ]
}