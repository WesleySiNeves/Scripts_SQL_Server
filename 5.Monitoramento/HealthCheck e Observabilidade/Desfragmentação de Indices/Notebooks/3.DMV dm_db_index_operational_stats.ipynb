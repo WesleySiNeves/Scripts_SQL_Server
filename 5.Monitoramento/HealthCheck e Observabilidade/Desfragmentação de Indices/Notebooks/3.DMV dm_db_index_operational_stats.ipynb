{
    "metadata": {
        "kernelspec": {
            "name": "SQL",
            "display_name": "SQL",
            "language": "sql"
        },
        "language_info": {
            "name": "sql",
            "version": ""
        }
    },
    "nbformat_minor": 2,
    "nbformat": 4,
    "cells": [
        {
            "cell_type": "markdown",
            "source": [
                "# **sys.dm\\_db\\_index\\_operational\\_stats**"
            ],
            "metadata": {
                "azdata_cell_guid": "144cb52a-eb2a-4d7b-b513-93056cfed8db"
            },
            "attachments": {}
        },
        {
            "cell_type": "markdown",
            "source": [
                "## O problema da fragmentação de Indices"
            ],
            "metadata": {
                "language": "sql",
                "azdata_cell_guid": "1cb2b16c-6650-4dac-86eb-89bf66db254c"
            },
            "attachments": {}
        },
        {
            "cell_type": "markdown",
            "source": [
                "<span style=\"color: rgb(22, 22, 22); font-family: &quot;Segoe UI&quot;, SegoeUI, &quot;Helvetica Neue&quot;, Helvetica, Arial, sans-serif; font-size: 16px; background-color: rgb(255, 255, 255);\">A fragmentação de índice ocorre quando a ordenação lógica nas páginas de índice não corresponde à ordenação física. As páginas podem estar desordenadas durante instruções de modificação de dados de rotina, como&nbsp;</span>  `UPDATE`<span style=\"color: rgb(22, 22, 22); font-family: &quot;Segoe UI&quot;, SegoeUI, &quot;Helvetica Neue&quot;, Helvetica, Arial, sans-serif; font-size: 16px; background-color: rgb(255, 255, 255);\">,&nbsp;</span>  `DELETE`  <span style=\"color: rgb(22, 22, 22); font-family: &quot;Segoe UI&quot;, SegoeUI, &quot;Helvetica Neue&quot;, Helvetica, Arial, sans-serif; font-size: 16px; background-color: rgb(255, 255, 255);\">&nbsp;e&nbsp;</span>  `INSERT`<span style=\"color: rgb(22, 22, 22); font-family: &quot;Segoe UI&quot;, SegoeUI, &quot;Helvetica Neue&quot;, Helvetica, Arial, sans-serif; font-size: 16px; background-color: rgb(255, 255, 255);\">. A fragmentação pode apresentar problemas de desempenho devido à E/S adicional necessária para localizar os dados que estão sendo referenciados pelos ponteiros dentro das páginas de índice.</span>"
            ],
            "metadata": {
                "language": "sql",
                "azdata_cell_guid": "366d7edf-d740-4088-a306-5eea5f7d06cc"
            },
            "attachments": {}
        },
        {
            "cell_type": "markdown",
            "source": [
                "<span style=\"color:rgb(22, 22, 22);font-family:&quot;Segoe UI&quot;, SegoeUI, &quot;Helvetica Neue&quot;, Helvetica, Arial, sans-serif;font-size:16px;background-color:rgb(255, 255, 255);\"><b>Uma recompilação</b> pode estar online ou offline, dependendo do comando executado ou da edição do SQL Server que está sendo usada. Um processo de recompilação offline removerá e recriará o índice. Se você puder fazer isso online, um novo índice será criado em paralelo ao índice existente. Depois de criar o índice, o índice existente será descartado e o novo será renomeado para corresponder ao nome do antigo</span>"
            ],
            "metadata": {
                "azdata_cell_guid": "7a4b7342-6d57-4dba-9eab-0f148f674e04"
            },
            "attachments": {}
        },
        {
            "cell_type": "markdown",
            "source": [
                "## **Estrutura da DMV `sys.dm_db_index_operational_stats`**"
            ],
            "metadata": {
                "azdata_cell_guid": "385f5658-2499-46ea-b989-da4f2ecd851d"
            },
            "attachments": {}
        },
        {
            "cell_type": "code",
            "source": [
                "sys.dm_db_index_operational_stats (\r\n",
                "    { database_id | NULL | 0 | DEFAULT },\r\n",
                "    { object_id | NULL | 0 | DEFAULT },\r\n",
                "    { index_id | NULL | 0 | -1 | DEFAULT },\r\n",
                "    { partition_number | NULL | 0 | -1 | DEFAULT }\r\n",
                ")\r\n",
                ""
            ],
            "metadata": {
                "azdata_cell_guid": "4518353d-5d7d-4c06-b8b4-0b8fdcb3a8e6",
                "language": "sql"
            },
            "outputs": [],
            "execution_count": null
        },
        {
            "cell_type": "markdown",
            "source": [
                "### Parâmetros\n",
                "\n",
                "### \n",
                "\n",
                "- **database\\_id**: ID do banco de dados. Use `NULL`, `0`, ou `DEFAULT` para todos os bancos de dados.\n",
                "- **object\\_id**: ID da tabela ou visualização indexada. Use `NULL`, `0`, ou `DEFAULT` para todos os objetos.\n",
                "- **index\\_id**: ID do índice. Use `NULL`, `0`, `-1`, ou `DEFAULT` para todos os índices.\n",
                "- **partition\\_number**: Número da partição. Use `NULL`, `0`, `-1`, ou `DEFAULT` para todas as partições"
            ],
            "metadata": {
                "azdata_cell_guid": "9610406f-eb71-4fa7-a310-ed7c1dfecce7"
            },
            "attachments": {}
        },
        {
            "cell_type": "markdown",
            "source": [
                "## Colunas retornadas"
            ],
            "metadata": {
                "azdata_cell_guid": "94e2b7b7-c25b-4e00-8d1d-cae10a9bcf58"
            }
        },
        {
            "cell_type": "markdown",
            "source": [
                "###   \n",
                "\n",
                "### \n",
                "\n",
                "A DMV retorna várias colunas que fornecem informações detalhadas sobre as operações nos índices:\n",
                "\n",
                "- **database\\_id**: ID do banco de dados.\n",
                "- **object\\_id**: ID da tabela ou visualização indexada.\n",
                "- **index\\_id**: ID do índice.\n",
                "- **partition\\_number**: Número da partição.\n",
                "- **leaf\\_insert\\_count**: Número de inserções de registros na folha do índice.\n",
                "- **leaf\\_delete\\_count**: Número de exclusões de registros na folha do índice.\n",
                "- **leaf\\_update\\_count**: Número de atualizações de registros na folha do índice.\n",
                "- **leaf\\_ghost\\_count**: Número de registros \"fantasmas\" na folha do índice (registros marcados para exclusão).\n",
                "- **nonleaf\\_insert\\_count**: Número de inserções de registros nos níveis não folha do índice.\n",
                "- **nonleaf\\_delete\\_count**: Número de exclusões de registros nos níveis não folha do índice.\n",
                "- **nonleaf\\_update\\_count**: Número de atualizações de registros nos níveis não folha do índice.\n",
                "- **rows\\_read**: Número de linhas lidas.\n",
                "- **row\\_lock\\_count**: Número de bloqueios de linhas.\n",
                "- **row\\_lock\\_wait\\_in\\_ms**: Tempo total de espera para bloqueios de linhas, em milissegundos.\n",
                "- **page\\_lock\\_count**: Número de bloqueios de páginas.\n",
                "- **page\\_lock\\_wait\\_in\\_ms**: Tempo total de espera para bloqueios de páginas, em milissegundos.\n",
                "- **index\\_lock\\_promotion\\_attempts**: Número de tentativas de promoção de bloqueio de índice.\n",
                "- **index\\_lock\\_promotion\\_count**: Número de promoções de bloqueio de índice bem-sucedidas."
            ],
            "metadata": {
                "azdata_cell_guid": "df9c7874-5d9c-427e-b306-18fe0fbb0812"
            },
            "attachments": {}
        },
        {
            "cell_type": "markdown",
            "source": [
                "### Exemplos de Uso\n",
                "\n",
                "### \n",
                "\n",
                "1. **Obter Estatísticas Operacionais para Todos os Índices em uma Tabela Específica**"
            ],
            "metadata": {
                "azdata_cell_guid": "87a568d5-ec64-4f4b-a961-f94ab5c0cb47"
            },
            "attachments": {}
        },
        {
            "cell_type": "code",
            "source": [
                "SELECT *\r\n",
                "FROM sys.dm_db_index_operational_stats(DB_ID(), OBJECT_ID('MinhaTabela'), NULL, NULL);\r\n",
                ""
            ],
            "metadata": {
                "azdata_cell_guid": "22a67d7a-d80b-454b-b4df-3097c1165f87",
                "language": "sql"
            },
            "outputs": [],
            "execution_count": null
        },
        {
            "cell_type": "markdown",
            "source": [
                "> **2\\. Obter Estatísticas Operacionais para um Índice Específico**:"
            ],
            "metadata": {
                "language": "sql",
                "azdata_cell_guid": "e74a8b78-f2f8-4f96-96f8-2a745e74077e"
            },
            "attachments": {}
        },
        {
            "cell_type": "code",
            "source": [
                "SELECT *\r\n",
                "FROM sys.dm_db_index_operational_stats(DB_ID(), OBJECT_ID('MinhaTabela'), 1, NULL);\r\n",
                ""
            ],
            "metadata": {
                "azdata_cell_guid": "c426165f-6ec2-4a63-af57-079d61108135",
                "language": "sql"
            },
            "outputs": [],
            "execution_count": null
        },
        {
            "cell_type": "markdown",
            "source": [
                "> **3.<span style=\"color: var(--vscode-foreground);\">Obter Estatísticas Operacionais para Todos os Bancos de Dados e Índices</span>**"
            ],
            "metadata": {
                "language": "sql",
                "azdata_cell_guid": "2ec83d32-7040-4963-b89e-7504418db9b8"
            },
            "attachments": {}
        },
        {
            "cell_type": "code",
            "source": [
                "SELECT *\r\n",
                "FROM sys.dm_db_index_operational_stats(NULL, NULL, NULL, NULL);\r\n",
                ""
            ],
            "metadata": {
                "language": "sql",
                "azdata_cell_guid": "a5af7f74-fee7-42de-94ec-8dc309bb21f5"
            },
            "outputs": [],
            "execution_count": null
        },
        {
            "cell_type": "markdown",
            "source": [
                "### Análise e Uso Prático\n",
                "\n",
                "- **Diagnóstico de Performance**: Usar `sys.dm_db_index_operational_stats` para entender a frequência de inserções, atualizações e deleções pode ajudar a identificar índices que estão sob alta carga e podem se beneficiar de ajustes ou manutenção.\n",
                "- **Identificação de Índices Ineficientes**: Estatísticas como `rows_read` e `row_lock_wait_in_ms` ajudam a identificar índices que podem estar causando contenção ou atrasos significativos.\n",
                "- **Ajustes de Fill Factor**: Informações sobre inserções, deleções e atualizações podem guiar a configuração de fatores de preenchimento (fill factors) apropriados para reduzir a fragmentação e melhorar a performance.\n",
                "- **Manutenção Proativa**: Monitorar os valores de `leaf_ghost_count` pode ajudar a determinar quando uma reconstrução ou reorganização de índices é necessária para remover registros \"fantasmas\" e melhorar a eficiência do índice."
            ],
            "metadata": {
                "language": "sql",
                "azdata_cell_guid": "85f8a953-7fa1-4176-9d33-27f8e2c15e04"
            },
            "attachments": {}
        }
    ]
}