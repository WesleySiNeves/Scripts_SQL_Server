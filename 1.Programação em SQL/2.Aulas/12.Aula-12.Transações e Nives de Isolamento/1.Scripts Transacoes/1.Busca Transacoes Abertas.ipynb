{
    "metadata": {
        "kernelspec": {
            "name": "SQL",
            "display_name": "SQL",
            "language": "sql"
        },
        "language_info": {
            "name": "sql",
            "version": ""
        }
    },
    "nbformat_minor": 2,
    "nbformat": 4,
    "cells": [
        {
            "cell_type": "markdown",
            "source": [
                "# sys.dm\\_tran\\_active\\_transactions:\n",
                "\n",
                "<span style=\"color: rgb(22, 22, 22); font-family: &quot;Segoe UI&quot;, SegoeUI, &quot;Helvetica Neue&quot;, Helvetica, Arial, sans-serif; font-size: 16px; background-color: rgb(255, 255, 255);\">Retorna informações sobre transações para a instância do SQL Server.</span>\n",
                "\n",
                "<span style=\"background-color: rgb(255, 255, 255); color: rgb(22, 22, 22); font-family: &quot;Segoe UI&quot;, SegoeUI, &quot;Helvetica Neue&quot;, Helvetica, Arial, sans-serif; font-size: 16px;\">Requer a permissão <b>VIEW SERVER PERFORMANCE STATE</b> no servidor.</span>"
            ],
            "metadata": {
                "azdata_cell_guid": "a078459b-8208-4604-9ca9-231bd48cb7c5"
            },
            "attachments": {}
        },
        {
            "cell_type": "markdown",
            "source": [
                "# **<mark>Query 1</mark>**\n",
                "\n",
                "## <span style=\"background-color: rgb(247, 247, 248); color: rgb(55, 65, 81); font-family: Söhne, ui-sans-serif, system-ui, -apple-system, &quot;Segoe UI&quot;, Roboto, Ubuntu, Cantarell, &quot;Noto Sans&quot;, sans-serif, &quot;Helvetica Neue&quot;, Arial, &quot;Apple Color Emoji&quot;, &quot;Segoe UI Emoji&quot;, &quot;Segoe UI Symbol&quot;, &quot;Noto Color Emoji&quot;; font-size: 16px; white-space: pre-wrap;\">Esta consulta fornece uma visão detalhada das transações ativas no banco de dados, incluindo informações sobre o que cada transação está fazendo, seu estado, comandos em execução, bloqueios, detalhes de consulta e muito mais. Isso pode ser útil para fins de monitoramento e diagnóstico de problemas de desempenho ou bloqueios no banco de dados.</span>"
            ],
            "metadata": {
                "azdata_cell_guid": "0c1d684f-7eca-452f-b619-49b14bac4865"
            },
            "attachments": {}
        },
        {
            "cell_type": "code",
            "source": [
                "SELECT DB_NAME(er.database_id),\r\n",
                "       tat.transaction_id,\r\n",
                "       tat.name,\r\n",
                "\t   er.transaction_isolation_level,\r\n",
                "       tat.transaction_begin_time,\r\n",
                "\t   DATEDIFF(SECOND, tat.transaction_begin_time, GETDATE()) as tran_elapsed_time_seconds,\r\n",
                "       tat.transaction_type,\r\n",
                "       er.session_id,\r\n",
                "       tat.transaction_state,\r\n",
                "       tat.transaction_status,\r\n",
                "       er.request_id,\r\n",
                "       er.status,\r\n",
                "       er.command,\r\n",
                "       er.statement_end_offset,\r\n",
                "       er.user_id,\r\n",
                "       er.blocking_session_id,\r\n",
                "       er.wait_type,\r\n",
                "       er.wait_time,\r\n",
                "       er.last_wait_type,\r\n",
                "       er.wait_resource,\r\n",
                "       er.open_transaction_count,\r\n",
                "       er.percent_complete,\r\n",
                "       er.estimated_completion_time,\r\n",
                "       er.cpu_time,\r\n",
                "       er.total_elapsed_time,\r\n",
                "       er.scheduler_id,\r\n",
                "       er.reads,\r\n",
                "       er.writes,\r\n",
                "       er.logical_reads,\r\n",
                "       er.text_size,\r\n",
                "    \r\n",
                "       er.lock_timeout,\r\n",
                "       er.deadlock_priority,\r\n",
                "       er.row_count,\r\n",
                "       er.prev_error,\r\n",
                "       er.nest_level,\r\n",
                "       er.granted_query_memory,\r\n",
                "       [Query Completa] = text\r\n",
                "  FROM sys.dm_tran_active_transactions tat\r\n",
                " INNER JOIN sys.dm_exec_requests er\r\n",
                "    ON tat.transaction_id = er.transaction_id\r\n",
                " CROSS APPLY sys.dm_exec_sql_text(er.sql_handle) Bat\r\n",
                " WHERE [er].[session_id] <> @@SPID\r\n",
                "\r\n",
                "\r\n",
                ""
            ],
            "metadata": {
                "azdata_cell_guid": "7ae618f4-ff0f-4c95-973e-195e7c9b16ea",
                "language": "sql"
            },
            "outputs": [
                {
                    "output_type": "display_data",
                    "data": {
                        "text/html": "(0 rows affected)"
                    },
                    "metadata": {}
                },
                {
                    "output_type": "display_data",
                    "data": {
                        "text/html": "Total execution time: 00:00:00.005"
                    },
                    "metadata": {}
                },
                {
                    "output_type": "execute_result",
                    "metadata": {},
                    "execution_count": 3,
                    "data": {
                        "application/vnd.dataresource+json": {
                            "schema": {
                                "fields": [
                                    {
                                        "name": "(No column name)"
                                    },
                                    {
                                        "name": "transaction_id"
                                    },
                                    {
                                        "name": "name"
                                    },
                                    {
                                        "name": "transaction_isolation_level"
                                    },
                                    {
                                        "name": "transaction_begin_time"
                                    },
                                    {
                                        "name": "tran_elapsed_time_seconds"
                                    },
                                    {
                                        "name": "transaction_type"
                                    },
                                    {
                                        "name": "session_id"
                                    },
                                    {
                                        "name": "transaction_state"
                                    },
                                    {
                                        "name": "transaction_status"
                                    },
                                    {
                                        "name": "request_id"
                                    },
                                    {
                                        "name": "status"
                                    },
                                    {
                                        "name": "command"
                                    },
                                    {
                                        "name": "statement_end_offset"
                                    },
                                    {
                                        "name": "user_id"
                                    },
                                    {
                                        "name": "blocking_session_id"
                                    },
                                    {
                                        "name": "wait_type"
                                    },
                                    {
                                        "name": "wait_time"
                                    },
                                    {
                                        "name": "last_wait_type"
                                    },
                                    {
                                        "name": "wait_resource"
                                    },
                                    {
                                        "name": "open_transaction_count"
                                    },
                                    {
                                        "name": "percent_complete"
                                    },
                                    {
                                        "name": "estimated_completion_time"
                                    },
                                    {
                                        "name": "cpu_time"
                                    },
                                    {
                                        "name": "total_elapsed_time"
                                    },
                                    {
                                        "name": "scheduler_id"
                                    },
                                    {
                                        "name": "reads"
                                    },
                                    {
                                        "name": "writes"
                                    },
                                    {
                                        "name": "logical_reads"
                                    },
                                    {
                                        "name": "text_size"
                                    },
                                    {
                                        "name": "lock_timeout"
                                    },
                                    {
                                        "name": "deadlock_priority"
                                    },
                                    {
                                        "name": "row_count"
                                    },
                                    {
                                        "name": "prev_error"
                                    },
                                    {
                                        "name": "nest_level"
                                    },
                                    {
                                        "name": "granted_query_memory"
                                    },
                                    {
                                        "name": "Query Completa"
                                    }
                                ]
                            },
                            "data": []
                        },
                        "text/html": [
                            "<table>",
                            "<tr><th>(No column name)</th><th>transaction_id</th><th>name</th><th>transaction_isolation_level</th><th>transaction_begin_time</th><th>tran_elapsed_time_seconds</th><th>transaction_type</th><th>session_id</th><th>transaction_state</th><th>transaction_status</th><th>request_id</th><th>status</th><th>command</th><th>statement_end_offset</th><th>user_id</th><th>blocking_session_id</th><th>wait_type</th><th>wait_time</th><th>last_wait_type</th><th>wait_resource</th><th>open_transaction_count</th><th>percent_complete</th><th>estimated_completion_time</th><th>cpu_time</th><th>total_elapsed_time</th><th>scheduler_id</th><th>reads</th><th>writes</th><th>logical_reads</th><th>text_size</th><th>lock_timeout</th><th>deadlock_priority</th><th>row_count</th><th>prev_error</th><th>nest_level</th><th>granted_query_memory</th><th>Query Completa</th></tr>",
                            "</table>"
                        ]
                    }
                }
            ],
            "execution_count": 3
        },
        {
            "cell_type": "markdown",
            "source": [
                "# **<mark>Query 2</mark>**\n",
                "\n",
                "## <span style=\"background-color: rgb(247, 247, 248); color: rgb(55, 65, 81); font-family: Söhne, ui-sans-serif, system-ui, -apple-system, &quot;Segoe UI&quot;, Roboto, Ubuntu, Cantarell, &quot;Noto Sans&quot;, sans-serif, &quot;Helvetica Neue&quot;, Arial, &quot;Apple Color Emoji&quot;, &quot;Segoe UI Emoji&quot;, &quot;Segoe UI Symbol&quot;, &quot;Noto Color Emoji&quot;; font-size: 16px; white-space: pre-wrap;\">Esta consulta fornece uma visão detalhada das transações ativas no banco de dados, incluindo informações sobre o que cada transação está fazendo, seu estado, comandos em execução, bloqueios, detalhes de consulta e muito mais. Isso pode ser útil para fins de monitoramento e diagnóstico de problemas de desempenho ou bloqueios no banco de dados.</span>"
            ],
            "metadata": {
                "azdata_cell_guid": "ce113856-4c37-495b-8500-8ebe5c0b5bbc"
            },
            "attachments": {}
        },
        {
            "cell_type": "code",
            "source": [
                "--Query\r\n",
                "SELECT\r\n",
                "  GETDATE() as now,\r\n",
                "  DATEDIFF(SECOND, transaction_begin_time, GETDATE()) as tran_elapsed_time_seconds,\r\n",
                "  st.session_id,\r\n",
                "  txt.text, \r\n",
                "  at.*\r\n",
                "FROM\r\n",
                "  sys.dm_tran_active_transactions at\r\n",
                "  INNER JOIN sys.dm_tran_session_transactions st ON st.transaction_id = at.transaction_id\r\n",
                "  LEFT OUTER JOIN sys.dm_exec_sessions sess ON st.session_id = sess.session_id\r\n",
                "  LEFT OUTER JOIN sys.dm_exec_connections conn ON conn.session_id = sess.session_id\r\n",
                "    OUTER APPLY sys.dm_exec_sql_text(conn.most_recent_sql_handle)  AS txt\r\n",
                "ORDER BY\r\n",
                "  tran_elapsed_time_seconds DESC;"
            ],
            "metadata": {
                "azdata_cell_guid": "665e4f21-4ed1-42cf-ad52-9044627c324b",
                "language": "sql"
            },
            "outputs": [],
            "execution_count": null
        },
        {
            "cell_type": "markdown",
            "source": [
                "**Colunas e saidas do DMV**"
            ],
            "metadata": {
                "language": "sql",
                "azdata_cell_guid": "fb6a45cd-05b6-43d8-9cd0-b5ede78366d6"
            },
            "attachments": {}
        },
        {
            "cell_type": "markdown",
            "source": [
                "| Nome da coluna | Tipo de Dados | DESCRIÇÃO |\n",
                "| --- | --- | --- |\n",
                "| transaction\\_id | bigint | ID da transação no nível da instância, e não no nível do banco de dados. É exclusiva apenas em todos os bancos de dados em uma instância, mas não em todas as instâncias de servidor. |\n",
                "| Nome | nvarchar(32) | Nome da transação. O nome será substituído se a transação for marcada e o nome marcado substituirá o nome de transação. |\n",
                "| transaction\\_begin\\_time | datetime | Hora de início da transação. |\n",
                "| transaction\\_type | int | Tipo de transação.<br><br>1 = Transação de leitura/gravação<br><br>2 = Transação somente leitura<br><br>3 = Transação de sistema<br><br>4 = Transação distribuída |\n",
                "| transaction\\_uow | uniqueidentifier | Identificador da UOW (unidade de trabalho) da transação para transações distribuídas. O MS DTC usa o identificador UOW para trabalhar com a transação distribuída. |\n",
                "| transaction\\_state | int | 0 = A transação não foi completamente inicializada ainda.<br><br>1 = A transação foi inicializada mas não foi iniciada.<br><br>2 = A transação está ativa.<br><br>3 = A transação foi encerrada. Isso é usado para transações somente leitura.<br><br>4 = O processo de confirmação foi iniciado na transação distribuída. Destina-se somente a transações distribuídas. A transação distribuída ainda está ativa, mas não poderá mais ser realizado o processamento.<br><br>5 = A transação está em um estado preparado e aguardando resolução.<br><br>6 = A transação foi confirmada.<br><br>7 = A transação está sendo revertida.<br><br>8 = A transação foi revertida. |\n",
                "| transaction\\_status | int | Identificado apenas para fins informativos. Não há suporte. A compatibilidade futura não está garantida. |\n",
                "| transaction\\_status2 | int | Identificado apenas para fins informativos. Não há suporte. A compatibilidade futura não está garantida. |\n",
                "| dtc\\_state | int | Aplica-se a: banco de dados SQL do Azure (versão inicial por meio da [versão atual](https://learn.microsoft.com/pt-br/previous-versions/azure/ee336279(v=azure.100))).<br><br>1 = ACTIVE<br><br>2 = PREPARED<br><br>3 = COMMITTED<br><br>4 = ABORTED<br><br>5 = RECOVERED |\n",
                "| dtc\\_status | int | Identificado apenas para fins informativos. Não há suporte. A compatibilidade futura não está garantida. |\n",
                "| dtc\\_isolation\\_level | int | Identificado apenas para fins informativos. Não há suporte. A compatibilidade futura não está garantida. |\n",
                "| filestream\\_transaction\\_id | varbinary(128) | Aplica-se a: banco de dados SQL do Azure (versão inicial por meio da [versão atual](https://learn.microsoft.com/pt-br/previous-versions/azure/ee336279(v=azure.100))).<br><br>Identificado apenas para fins informativos. Não há suporte. A compatibilidade futura não está garantida. |\n",
                "| pdw\\_node\\_id | int | Aplica-se a: Azure Synapse Analytics, Analytics Platform System (PDW)<br><br>O identificador do nó em que essa distribuição está ativada. |"
            ],
            "metadata": {
                "language": "sql",
                "azdata_cell_guid": "46ade817-5f75-4398-9391-439201c47331"
            },
            "attachments": {}
        }
    ]
}