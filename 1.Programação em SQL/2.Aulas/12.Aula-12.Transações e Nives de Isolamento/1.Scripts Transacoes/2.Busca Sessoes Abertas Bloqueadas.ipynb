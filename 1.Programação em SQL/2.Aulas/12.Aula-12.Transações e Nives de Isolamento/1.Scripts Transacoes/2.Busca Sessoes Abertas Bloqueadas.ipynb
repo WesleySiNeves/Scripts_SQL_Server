{
    "metadata": {
        "kernelspec": {
            "name": "SQL",
            "display_name": "SQL",
            "language": "sql"
        },
        "language_info": {
            "name": "sql",
            "version": ""
        }
    },
    "nbformat_minor": 2,
    "nbformat": 4,
    "cells": [
        {
            "cell_type": "markdown",
            "source": [
                "# <span style=\"background-color:rgb(255, 255, 255);color:rgb(22, 22, 22);font-family:&quot;Segoe UI&quot;, SegoeUI, &quot;Helvetica Neue&quot;, Helvetica, Arial, sans-serif;font-size:clamp(1.875rem, 22.1053px + 1.64474vw, 2.5rem);font-weight:600;\">sys.dm_exec_sql_text</span>:\n",
                "\n",
                "<span style=\"color:rgb(22, 22, 22);font-family:&quot;Segoe UI&quot;, SegoeUI, &quot;Helvetica Neue&quot;, Helvetica, Arial, sans-serif;font-size:16px;background-color:rgb(255, 255, 255);\">Retorna o texto do lote SQL identificado pelo&nbsp;</span>  _sql\\_handle_  <span style=\"color:rgb(22, 22, 22);font-family:&quot;Segoe UI&quot;, SegoeUI, &quot;Helvetica Neue&quot;, Helvetica, Arial, sans-serif;font-size:16px;background-color:rgb(255, 255, 255);\">&nbsp;especificado. Esta função com valor de tabela substitui a função do sistema&nbsp;</span>  <span style=\"font-weight:600;color:rgb(22, 22, 22);font-family:&quot;Segoe UI&quot;, SegoeUI, &quot;Helvetica Neue&quot;, Helvetica, Arial, sans-serif;font-size:16px;background-color:rgb(255, 255, 255);\">fn_get_sql</span><span style=\"color:rgb(22, 22, 22);font-family:&quot;Segoe UI&quot;, SegoeUI, &quot;Helvetica Neue&quot;, Helvetica, Arial, sans-serif;font-size:16px;background-color:rgb(255, 255, 255);\">.</span>\n",
                "\n",
                "<span style=\"color:rgb(22, 22, 22);font-family:&quot;Segoe UI&quot;, SegoeUI, &quot;Helvetica Neue&quot;, Helvetica, Arial, sans-serif;font-size:16px;background-color:rgb(255, 255, 255);\">Requer a permissão&nbsp;</span>  `**VIEW SERVER STATE**`  <span style=\"color:rgb(22, 22, 22);font-family:&quot;Segoe UI&quot;, SegoeUI, &quot;Helvetica Neue&quot;, Helvetica, Arial, sans-serif;font-size:16px;background-color:rgb(255, 255, 255);\">&nbsp;no servidor</span>"
            ],
            "metadata": {
                "azdata_cell_guid": "a078459b-8208-4604-9ca9-231bd48cb7c5"
            },
            "attachments": {}
        },
        {
            "cell_type": "markdown",
            "source": [
                "# **<mark>Query 1</mark>**\n",
                "\n",
                "## <span style=\"color:rgb(55, 65, 81);font-family:Söhne, ui-sans-serif, system-ui, -apple-system, &quot;Segoe UI&quot;, Roboto, Ubuntu, Cantarell, &quot;Noto Sans&quot;, sans-serif, &quot;Helvetica Neue&quot;, Arial, &quot;Apple Color Emoji&quot;, &quot;Segoe UI Emoji&quot;, &quot;Segoe UI Symbol&quot;, &quot;Noto Color Emoji&quot;;font-size:16px;white-space:pre-wrap;background-color:rgb(247, 247, 248);\">Recuperar informações sobre processos que estão bloqueados no SQL Server. Ela ajuda a identificar as sessões que estão esperando por recursos que estão sendo bloqueados por outras sessões.</span>"
            ],
            "metadata": {
                "azdata_cell_guid": "0c1d684f-7eca-452f-b619-49b14bac4865"
            },
            "attachments": {}
        },
        {
            "cell_type": "code",
            "source": [
                "SELECT SE.spid,\r\n",
                "       SE.blocked,\r\n",
                "       SE.waittype,\r\n",
                "       SE.waittime,\r\n",
                "       SE.lastwaittype,\r\n",
                "       [Bannco] = DB_NAME(SE.dbid),\r\n",
                "       SE.uid,\r\n",
                "       SE.cpu,\r\n",
                "       SE.physical_io,\r\n",
                "       SE.memusage,\r\n",
                "       SE.login_time,\r\n",
                "       SE.last_batch,\r\n",
                "       SE.ecid,\r\n",
                "       SE.open_tran,\r\n",
                "       SE.status,\r\n",
                "       SE.sid,\r\n",
                "       SE.hostname,\r\n",
                "       SE.program_name,\r\n",
                "       SE.hostprocess,\r\n",
                "       SE.cmd,\r\n",
                "       SE.nt_domain,\r\n",
                "       SE.nt_username,\r\n",
                "       SE.net_address,\r\n",
                "       SE.net_library,\r\n",
                "       SE.loginame,\r\n",
                "       SE.context_info,\r\n",
                "       SE.sql_handle,\r\n",
                "       SE.stmt_start,\r\n",
                "       SE.stmt_end,\r\n",
                "       SE.request_id,\r\n",
                "\t   s_est.dbid,\r\n",
                "       s_est.objectid,\r\n",
                "       s_est.number,\r\n",
                "       s_est.encrypted,\r\n",
                "       s_est.text\r\n",
                "FROM sys.sysprocesses SE\r\n",
                "    OUTER APPLY sys.dm_exec_sql_text(SE.sql_handle) AS [s_est]\r\n",
                "\tWHERE [SE].[spid] <>  @@SPID\r\n",
                ""
            ],
            "metadata": {
                "azdata_cell_guid": "7ae618f4-ff0f-4c95-973e-195e7c9b16ea",
                "language": "sql"
            },
            "outputs": [],
            "execution_count": null
        },
        {
            "cell_type": "markdown",
            "source": [
                "## Sintaxe:\n",
                "\n",
                "<span style=\"background-color: rgb(255, 255, 255);\"><font color=\"#161616\" face=\"Segoe UI, SegoeUI, Helvetica Neue, Helvetica, Arial, sans-serif\"><span style=\"font-size: 16px;\">sys.dm_exec_sql_text(sql_handle | plan_handle)<br></span></font><br></span>\n",
                "\n",
                "O _sql\\_handle_ pode ser obtido dos seguintes objetos de gerenciamento dinâmico:\n",
                "\n",
                "- [sys.dm\\_exec\\_query\\_stats](https://learn.microsoft.com/pt-br/sql/relational-databases/system-dynamic-management-views/sys-dm-exec-query-stats-transact-sql?view=sql-server-ver16)\n",
                "    \n",
                "- [sys.dm\\_exec\\_requests](https://learn.microsoft.com/pt-br/sql/relational-databases/system-dynamic-management-views/sys-dm-exec-requests-transact-sql?view=sql-server-ver16)\n",
                "    \n",
                "- [sys.dm\\_exec\\_cursors](https://learn.microsoft.com/pt-br/sql/relational-databases/system-dynamic-management-views/sys-dm-exec-cursors-transact-sql?view=sql-server-ver16)\n",
                "    \n",
                "- [sys.dm\\_exec\\_xml\\_handles](https://learn.microsoft.com/pt-br/sql/relational-databases/system-dynamic-management-views/sys-dm-exec-xml-handles-transact-sql?view=sql-server-ver16)\n",
                "    \n",
                "- [sys.dm\\_exec\\_query\\_memory\\_grants](https://learn.microsoft.com/pt-br/sql/relational-databases/system-dynamic-management-views/sys-dm-exec-query-memory-grants-transact-sql?view=sql-server-ver16)\n",
                "    \n",
                "- [sys.dm\\_exec\\_connections](https://learn.microsoft.com/pt-br/sql/relational-databases/system-dynamic-management-views/sys-dm-exec-connections-transact-sql?view=sql-server-ver16)\n",
                "    \n",
                "    O _plan\\_handle_ pode ser obtido dos seguintes objetos de gerenciamento dinâmico:\n",
                "    \n",
                "    - [sys.dm\\_exec\\_cached\\_plans (Transact-SQL)](https://learn.microsoft.com/pt-br/sql/relational-databases/system-dynamic-management-views/sys-dm-exec-cached-plans-transact-sql?view=sql-server-ver16)\n",
                "        \n",
                "    - [sys.dm\\_exec\\_query\\_stats (Transact-SQL)](https://learn.microsoft.com/pt-br/sql/relational-databases/system-dynamic-management-views/sys-dm-exec-query-stats-transact-sql?view=sql-server-ver16)\n",
                "        \n",
                "    - [sys.dm\\_exec\\_requests (Transact-SQL)](https://learn.microsoft.com/pt-br/sql/relational-databases/system-dynamic-management-views/sys-dm-exec-requests-transact-sql?view=sql-server-ver16)\n",
                "        \n",
                "    - [sys.dm\\_exec\\_procedure\\_stats (Transact-SQL)](https://learn.microsoft.com/pt-br/sql/relational-databases/system-dynamic-management-views/sys-dm-exec-procedure-stats-transact-sql?view=sql-server-ver16)\n",
                "        \n",
                "    - [sys.dm\\_exec\\_trigger\\_stats (Transact-SQL)](https://learn.microsoft.com/pt-br/sql/relational-databases/system-dynamic-management-views/sys-dm-exec-trigger-stats-transact-sql?view=sql-server-ver16)"
            ],
            "metadata": {
                "azdata_cell_guid": "9a8fe7b3-4d90-406f-8a55-eec16e4716a6"
            },
            "attachments": {}
        },
        {
            "cell_type": "markdown",
            "source": [
                "### <span style=\"background-color: rgb(255, 255, 255); color: rgb(22, 22, 22); font-family: &quot;Segoe UI&quot;, SegoeUI, &quot;Helvetica Neue&quot;, Helvetica, Arial, sans-serif; font-size: clamp(1.875rem, 22.1053px + 1.64474vw, 2.5rem); font-weight: 600;\">sys.sysprocesses</span>\n",
                "\n",
                "## <span style=\"color:rgb(22, 22, 22);font-family:&quot;Segoe UI&quot;, SegoeUI, &quot;Helvetica Neue&quot;, Helvetica, Arial, sans-serif;font-size:16px;background-color:rgb(255, 255, 255);\">Contém informações sobre processos em execução em uma instância do SQL Server. Eles podem ser processos do cliente ou processos do sistema. Para acessar sysprocesses</span>"
            ],
            "metadata": {
                "azdata_cell_guid": "ce113856-4c37-495b-8500-8ebe5c0b5bbc"
            },
            "attachments": {}
        },
        {
            "cell_type": "markdown",
            "source": [
                "| Nome da coluna | Tipo de dados | Descrição |\n",
                "| --- | --- | --- |\n",
                "| spid | smallint | SQL Server ID da sessão. |\n",
                "| kpid | smallint | ID do thread do Windows. |\n",
                "| blocked | smallint | ID da sessão que está bloqueando a solicitação. Se esta coluna for NULL, a solicitação não estará bloqueada ou as informações da sessão de bloqueio não estarão disponíveis (ou não podem ser identificadas).<br><br>\\-2 = O recurso de bloqueio pertence a uma transação distribuída órfã.<br><br>\\-3 = O recurso de bloqueio pertence a uma transação de recuperação adiada.<br><br>\\-4 = A ID da sessão do proprietário da trava de bloqueio não pôde ser determinada devido a transições internas de estado da trava. |\n",
                "| waittype | binary(2) | Reservado. |\n",
                "| waittime | bigint | Tempo de espera atual em milissegundos.<br><br>0 = O processo não está esperando. |\n",
                "| lastwaittype | nchar(32) | Uma cadeia de caracteres que indica o nome do tipo de espera último ou atual. |\n",
                "| waitresource | nchar(256) | Representação textual de um recurso de bloqueio. |\n",
                "| dbid | smallint | ID do banco de dados usado atualmente pelo processo. |\n",
                "| uid | smallint | ID do usuário que executou o comando. Excederá ou retornará NULL se o número de usuários e funções exceder 32.767. |\n",
                "| cpu | int | Tempo de CPU cumulativo para o processo. A entrada é atualizada para todos os processos, independentemente da opção SET STATISTICS TIME ser ON ou OFF. |\n",
                "| physical\\_io | bigint | Leituras e gravações de disco cumulativas para o processo. |\n",
                "| memusage | int | Número de páginas no cache de procedimento que estão atualmente alocadas para este processo. Um número negativo indica que o processo está liberando a memória alocada por outro processo. |\n",
                "| login\\_time | datetime | Hora na qual um processo de cliente efetuou logon no servidor. |\n",
                "| last\\_batch | datetime | Última vez que um processo de cliente executou uma chamada de procedimento armazenado remoto ou uma instrução EXECUTE. |\n",
                "| ecid | smallint | ID do contexto de execução usado para identificar exclusivamente os subthreads que operam em nome de um único processo. |\n",
                "| open\\_tran | smallint | Número de transações abertas para o processo. |\n",
                "| status | nchar(30) | Status do ID do processo. Os valores possíveis são:<br><br>dormente = SQL Server está redefinindo a sessão.<br><br>running = A sessão está executando um ou mais lotes. Quando são habilitados MARS (Vários Conjuntos de Resultados Ativos), uma sessão pode executar vários lotes. Para obter mais informações, consulte [Usando MARS (vários conjuntos de resultados ativos)](https://learn.microsoft.com/pt-br/sql/relational-databases/native-client/features/using-multiple-active-result-sets-mars?view=sql-server-ver16).<br><br>background = A sessão está executando uma tarefa em segundo plano, como a detecção de deadlock.<br><br>rollback = A sessão tem uma reversão de transação em processo.<br><br>pendente = A sessão está aguardando que um thread de trabalho fique disponível.<br><br>runnable = A tarefa na sessão está na fila executável de um agendador enquanto aguarda para obter um quantum de tempo.<br><br>spinloop = A tarefa na sessão está aguardando que um spinlock se torne gratuito.<br><br>suspended = A sessão está aguardando a conclusão de um evento, como E/S. |\n",
                "| sid | binary(86) | GUID (Identificador Global Exclusivo) do usuário. |\n",
                "| hostname | nchar(128) | Nome da estação de trabalho. |\n",
                "| program\\_name | nchar(128) | Nome do programa aplicativo. |\n",
                "| hostprocess | nchar(10) | Número de ID do processo da estação de trabalho. |\n",
                "| cmd | nchar(52) | Comando sendo executado atualmente. |\n",
                "| nt\\_domain | nchar(128) | Domínio do Windows do cliente, se estiver usando Autenticação do Windows, ou uma conexão confiável. |\n",
                "| nt\\_username | nchar(128) | Nome de usuário do Windows para o processo, se estiver usando Autenticação do Windows, ou uma conexão confiável. |\n",
                "| net\\_address | nchar(12) | Identificador exclusivo atribuído para o adaptador de rede na estação de trabalho de cada usuário. Quando um usuário fizer o logon, este identificador será inserido na coluna net\\_address. |\n",
                "| net\\_library | nchar(12) | Coluna na qual a biblioteca de rede do cliente é armazenada. Todo processo de cliente entra em uma conexão de rede. As conexões de rede têm uma biblioteca de rede associada a elas que as permite estabelecer a conexão. |\n",
                "| loginame | nchar(128) | Nome de logon. |\n",
                "| context\\_info | binary(128) | Dados armazenados em um lote usando a instrução SET CONTEXT\\_INFO. |\n",
                "| sql\\_handle | binary(20) | Representa o lote ou o objeto atualmente em execução.<br><br>Nota Esse valor é derivado do lote ou do endereço de memória do objeto . Esse valor não é calculado usando o algoritmo baseado em hash SQL Server. |\n",
                "| stmt\\_start | int | Deslocamento inicial da instrução SQL atual para o sql\\_handle especificado. |\n",
                "| stmt\\_end | int | Deslocamento final da instrução SQL atual para o sql\\_handle especificado.<br><br>\\-1 = A instrução atual é executada até o final dos resultados retornados pela função fn\\_get\\_sql do sql\\_handle especificado. |\n",
                "| request\\_id | int | ID da solicitação. Usado para identificar solicitações em execução em uma sessão específica. |\n",
                "| page\\_resource | binary(8) | Aplica-se a: SQL Server 2019 (15.x)<br><br>Uma representação hexadecimal em 8 bytes do recurso de página se a coluna `waitresource` contiver uma página. |"
            ],
            "metadata": {
                "language": "sql",
                "azdata_cell_guid": "395207d0-befd-44f4-9534-7b182c10f623"
            },
            "attachments": {}
        }
    ]
}