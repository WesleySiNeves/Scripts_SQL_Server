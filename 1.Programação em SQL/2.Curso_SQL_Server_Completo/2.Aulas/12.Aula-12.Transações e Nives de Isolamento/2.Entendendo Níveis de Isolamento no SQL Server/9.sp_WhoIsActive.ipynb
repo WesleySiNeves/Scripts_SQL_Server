{
    "metadata": {
        "kernelspec": {
            "name": "SQL",
            "display_name": "SQL",
            "language": "sql"
        },
        "language_info": {
            "name": "sql",
            "version": ""
        }
    },
    "nbformat_minor": 2,
    "nbformat": 4,
    "cells": [
        {
            "cell_type": "code",
            "source": [
                "HealthCheck.sp_WhoIsActive"
            ],
            "metadata": {
                "azdata_cell_guid": "36176722-58b7-4ccc-bc56-11656c418f97",
                "language": "sql"
            },
            "outputs": [
                {
                    "output_type": "display_data",
                    "data": {
                        "text/html": "Warning: The join order has been enforced because a local join hint is used."
                    },
                    "metadata": {}
                },
                {
                    "output_type": "display_data",
                    "data": {
                        "text/html": "Warning: Null value is eliminated by an aggregate or other SET operation."
                    },
                    "metadata": {}
                },
                {
                    "output_type": "display_data",
                    "data": {
                        "text/html": "Warning: The join order has been enforced because a local join hint is used."
                    },
                    "metadata": {}
                },
                {
                    "output_type": "display_data",
                    "data": {
                        "text/html": "Warning: Null value is eliminated by an aggregate or other SET operation."
                    },
                    "metadata": {}
                },
                {
                    "output_type": "display_data",
                    "data": {
                        "text/html": "Total execution time: 00:00:00.188"
                    },
                    "metadata": {}
                },
                {
                    "output_type": "execute_result",
                    "metadata": {},
                    "execution_count": 3,
                    "data": {
                        "application/vnd.dataresource+json": {
                            "schema": {
                                "fields": [
                                    {
                                        "name": "dd hh:mm:ss.mss"
                                    },
                                    {
                                        "name": "session_id"
                                    },
                                    {
                                        "name": "sql_text"
                                    },
                                    {
                                        "name": "login_name"
                                    },
                                    {
                                        "name": "wait_info"
                                    },
                                    {
                                        "name": "CPU"
                                    },
                                    {
                                        "name": "tempdb_allocations"
                                    },
                                    {
                                        "name": "tempdb_current"
                                    },
                                    {
                                        "name": "blocking_session_id"
                                    },
                                    {
                                        "name": "reads"
                                    },
                                    {
                                        "name": "writes"
                                    },
                                    {
                                        "name": "physical_reads"
                                    },
                                    {
                                        "name": "used_memory"
                                    },
                                    {
                                        "name": "status"
                                    },
                                    {
                                        "name": "open_tran_count"
                                    },
                                    {
                                        "name": "percent_complete"
                                    },
                                    {
                                        "name": "host_name"
                                    },
                                    {
                                        "name": "database_name"
                                    },
                                    {
                                        "name": "program_name"
                                    },
                                    {
                                        "name": "start_time"
                                    },
                                    {
                                        "name": "login_time"
                                    },
                                    {
                                        "name": "request_id"
                                    },
                                    {
                                        "name": "collection_time"
                                    }
                                ]
                            },
                            "data": [
                                {
                                    "dd hh:mm:ss.mss": "00 00:00:11.993",
                                    "session_id": "64",
                                    "sql_text": "<?query --\r\nWAITFOR DELAY '00:00:20';\r\n\r\n\r\n\r\n--?>",
                                    "login_name": "IMPLANTA\\Wesley.Neves",
                                    "wait_info": "(11974ms)WAITFOR",
                                    "CPU": "                  3",
                                    "tempdb_allocations": "                  0",
                                    "tempdb_current": "                  0",
                                    "blocking_session_id": "NULL",
                                    "reads": "                 28",
                                    "writes": "                  0",
                                    "physical_reads": "                  0",
                                    "used_memory": "                  6",
                                    "status": "suspended",
                                    "open_tran_count": "                  1",
                                    "percent_complete": "NULL",
                                    "host_name": "NB186",
                                    "database_name": "TreinamentoSQL",
                                    "program_name": "azdata",
                                    "start_time": "2023-10-18 16:32:43.070",
                                    "login_time": "2023-10-18 16:29:37.653",
                                    "request_id": "0",
                                    "collection_time": "2023-10-18 16:32:55.100"
                                }
                            ]
                        },
                        "text/html": [
                            "<table>",
                            "<tr><th>dd hh:mm:ss.mss</th><th>session_id</th><th>sql_text</th><th>login_name</th><th>wait_info</th><th>CPU</th><th>tempdb_allocations</th><th>tempdb_current</th><th>blocking_session_id</th><th>reads</th><th>writes</th><th>physical_reads</th><th>used_memory</th><th>status</th><th>open_tran_count</th><th>percent_complete</th><th>host_name</th><th>database_name</th><th>program_name</th><th>start_time</th><th>login_time</th><th>request_id</th><th>collection_time</th></tr>",
                            "<tr><td>00 00:00:11.993</td><td>64</td><td>&lt;?query --\r\nWAITFOR DELAY &#39;00:00:20&#39;;\r\n\r\n\r\n\r\n--?&gt;</td><td>IMPLANTA\\Wesley.Neves</td><td>(11974ms)WAITFOR</td><td>                  3</td><td>                  0</td><td>                  0</td><td>NULL</td><td>                 28</td><td>                  0</td><td>                  0</td><td>                  6</td><td>suspended</td><td>                  1</td><td>NULL</td><td>NB186</td><td>TreinamentoSQL</td><td>azdata</td><td>2023-10-18 16:32:43.070</td><td>2023-10-18 16:29:37.653</td><td>0</td><td>2023-10-18 16:32:55.100</td></tr>",
                            "</table>"
                        ]
                    }
                }
            ],
            "execution_count": 3
        }
    ]
}