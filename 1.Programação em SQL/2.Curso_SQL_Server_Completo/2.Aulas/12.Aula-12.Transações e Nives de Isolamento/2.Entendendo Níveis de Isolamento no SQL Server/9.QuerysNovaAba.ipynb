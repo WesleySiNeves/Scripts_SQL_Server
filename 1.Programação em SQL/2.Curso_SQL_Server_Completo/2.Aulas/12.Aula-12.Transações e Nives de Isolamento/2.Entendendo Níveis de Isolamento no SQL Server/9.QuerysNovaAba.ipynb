{
    "metadata": {
        "kernelspec": {
            "name": "SQL",
            "display_name": "SQL",
            "language": "sql"
        },
        "language_info": {
            "name": "sql",
            "version": ""
        }
    },
    "nbformat_minor": 2,
    "nbformat": 4,
    "cells": [
        {
            "cell_type": "markdown",
            "source": [
                "# **<span style=\"border: 0px solid rgb(217, 217, 227); box-sizing: border-box; --tw-border-spacing-x: 0; --tw-border-spacing-y: 0; --tw-translate-x: 0; --tw-translate-y: 0; --tw-rotate: 0; --tw-skew-x: 0; --tw-skew-y: 0; --tw-scale-x: 1; --tw-scale-y: 1; --tw-pan-x: ; --tw-pan-y: ; --tw-pinch-zoom: ; --tw-scroll-snap-strictness: proximity; --tw-gradient-from-position: ; --tw-gradient-via-position: ; --tw-gradient-to-position: ; --tw-ordinal: ; --tw-slashed-zero: ; --tw-numeric-figure: ; --tw-numeric-spacing: ; --tw-numeric-fraction: ; --tw-ring-inset: ; --tw-ring-offset-width: 0px; --tw-ring-offset-color: #fff; --tw-ring-color: rgba(69,89,164,0.5); --tw-ring-offset-shadow: 0 0 transparent; --tw-ring-shadow: 0 0 transparent; --tw-shadow: 0 0 transparent; --tw-shadow-colored: 0 0 transparent; --tw-blur: ; --tw-brightness: ; --tw-contrast: ; --tw-grayscale: ; --tw-hue-rotate: ; --tw-invert: ; --tw-saturate: ; --tw-sepia: ; --tw-drop-shadow: ; --tw-backdrop-blur: ; --tw-backdrop-brightness: ; --tw-backdrop-contrast: ; --tw-backdrop-grayscale: ; --tw-backdrop-hue-rotate: ; --tw-backdrop-invert: ; --tw-backdrop-opacity: ; --tw-backdrop-saturate: ; --tw-backdrop-sepia: ; color: var(--tw-prose-bold); font-family: Söhne, ui-sans-serif, system-ui, -apple-system, &quot;Segoe UI&quot;, Roboto, Ubuntu, Cantarell, &quot;Noto Sans&quot;, sans-serif, &quot;Helvetica Neue&quot;, Arial, &quot;Apple Color Emoji&quot;, &quot;Segoe UI Emoji&quot;, &quot;Segoe UI Symbol&quot;, &quot;Noto Color Emoji&quot;; font-size: 16px; white-space: pre-wrap; background-color: rgb(247, 247, 248);\">Nível SERIALIZABLE</span>**"
            ],
            "metadata": {
                "azdata_cell_guid": "919dff22-ded8-4df7-a601-6a1d4917bd59"
            },
            "attachments": {}
        },
        {
            "cell_type": "markdown",
            "source": [
                "**<span style=\"border: 0px solid rgb(217, 217, 227); box-sizing: border-box; --tw-border-spacing-x: 0; --tw-border-spacing-y: 0; --tw-translate-x: 0; --tw-translate-y: 0; --tw-rotate: 0; --tw-skew-x: 0; --tw-skew-y: 0; --tw-scale-x: 1; --tw-scale-y: 1; --tw-pan-x: ; --tw-pan-y: ; --tw-pinch-zoom: ; --tw-scroll-snap-strictness: proximity; --tw-gradient-from-position: ; --tw-gradient-via-position: ; --tw-gradient-to-position: ; --tw-ordinal: ; --tw-slashed-zero: ; --tw-numeric-figure: ; --tw-numeric-spacing: ; --tw-numeric-fraction: ; --tw-ring-inset: ; --tw-ring-offset-width: 0px; --tw-ring-offset-color: #fff; --tw-ring-color: rgba(69,89,164,0.5); --tw-ring-offset-shadow: 0 0 transparent; --tw-ring-shadow: 0 0 transparent; --tw-shadow: 0 0 transparent; --tw-shadow-colored: 0 0 transparent; --tw-blur: ; --tw-brightness: ; --tw-contrast: ; --tw-grayscale: ; --tw-hue-rotate: ; --tw-invert: ; --tw-saturate: ; --tw-sepia: ; --tw-drop-shadow: ; --tw-backdrop-blur: ; --tw-backdrop-brightness: ; --tw-backdrop-contrast: ; --tw-backdrop-grayscale: ; --tw-backdrop-hue-rotate: ; --tw-backdrop-invert: ; --tw-backdrop-opacity: ; --tw-backdrop-saturate: ; --tw-backdrop-sepia: ; color: var(--tw-prose-bold); font-family: Söhne, ui-sans-serif, system-ui, -apple-system, &quot;Segoe UI&quot;, Roboto, Ubuntu, Cantarell, &quot;Noto Sans&quot;, sans-serif, &quot;Helvetica Neue&quot;, Arial, &quot;Apple Color Emoji&quot;, &quot;Segoe UI Emoji&quot;, &quot;Segoe UI Symbol&quot;, &quot;Noto Color Emoji&quot;; font-size: 16px; white-space: pre-wrap; background-color: rgb(247, 247, 248);\">1.Demonstração do Nível SERIALIZABLE Segunda Aba</span>**  \n",
                "\n",
                "**<span style=\"border: 0px solid rgb(217, 217, 227); box-sizing: border-box; --tw-border-spacing-x: 0; --tw-border-spacing-y: 0; --tw-translate-x: 0; --tw-translate-y: 0; --tw-rotate: 0; --tw-skew-x: 0; --tw-skew-y: 0; --tw-scale-x: 1; --tw-scale-y: 1; --tw-pan-x: ; --tw-pan-y: ; --tw-pinch-zoom: ; --tw-scroll-snap-strictness: proximity; --tw-gradient-from-position: ; --tw-gradient-via-position: ; --tw-gradient-to-position: ; --tw-ordinal: ; --tw-slashed-zero: ; --tw-numeric-figure: ; --tw-numeric-spacing: ; --tw-numeric-fraction: ; --tw-ring-inset: ; --tw-ring-offset-width: 0px; --tw-ring-offset-color: #fff; --tw-ring-color: rgba(69,89,164,0.5); --tw-ring-offset-shadow: 0 0 transparent; --tw-ring-shadow: 0 0 transparent; --tw-shadow: 0 0 transparent; --tw-shadow-colored: 0 0 transparent; --tw-blur: ; --tw-brightness: ; --tw-contrast: ; --tw-grayscale: ; --tw-hue-rotate: ; --tw-invert: ; --tw-saturate: ; --tw-sepia: ; --tw-drop-shadow: ; --tw-backdrop-blur: ; --tw-backdrop-brightness: ; --tw-backdrop-contrast: ; --tw-backdrop-grayscale: ; --tw-backdrop-hue-rotate: ; --tw-backdrop-invert: ; --tw-backdrop-opacity: ; --tw-backdrop-saturate: ; --tw-backdrop-sepia: ; color: var(--tw-prose-bold); font-family: Söhne, ui-sans-serif, system-ui, -apple-system, &quot;Segoe UI&quot;, Roboto, Ubuntu, Cantarell, &quot;Noto Sans&quot;, sans-serif, &quot;Helvetica Neue&quot;, Arial, &quot;Apple Color Emoji&quot;, &quot;Segoe UI Emoji&quot;, &quot;Segoe UI Symbol&quot;, &quot;Noto Color Emoji&quot;; font-size: 16px; white-space: pre-wrap; background-color: rgb(247, 247, 248);\"><br></span>**"
            ],
            "metadata": {
                "azdata_cell_guid": "3cc215cf-2945-41b0-9603-ae16847afba5"
            },
            "attachments": {}
        },
        {
            "cell_type": "code",
            "source": [
                "-- Iniciar a transação com nível SERIALIZABLE\r\n",
                "SET TRANSACTION ISOLATION LEVEL SERIALIZABLE;\r\n",
                "BEGIN TRANSACTION;\r\n",
                "\r\n",
                "-- Inserir um novo valor na tabela\r\n",
                "INSERT INTO SerializableDemo (Valor) VALUES (300);\r\n",
                "\r\n",
                "-- Aguardar por alguns segundos (simulando algum processamento)\r\n",
                "WAITFOR DELAY '00:00:05';\r\n",
                "-- Confirmar a transação\r\n",
                "COMMIT;"
            ],
            "metadata": {
                "azdata_cell_guid": "e65328df-fa29-49e9-a643-4a0082b15588",
                "language": "sql"
            },
            "outputs": [
                {
                    "output_type": "error",
                    "ename": "",
                    "evalue": "Msg 1222, Level 16, State 48, Line 6\r\nLock request time out period exceeded.",
                    "traceback": []
                },
                {
                    "output_type": "display_data",
                    "data": {
                        "text/html": "The statement has been terminated."
                    },
                    "metadata": {}
                },
                {
                    "output_type": "display_data",
                    "data": {
                        "text/html": "Total execution time: 00:00:10.026"
                    },
                    "metadata": {}
                }
            ],
            "execution_count": 1
        },
        {
            "cell_type": "markdown",
            "source": [
                "**<span style=\"border: 0px solid rgb(217, 217, 227); box-sizing: border-box; --tw-border-spacing-x: 0; --tw-border-spacing-y: 0; --tw-translate-x: 0; --tw-translate-y: 0; --tw-rotate: 0; --tw-skew-x: 0; --tw-skew-y: 0; --tw-scale-x: 1; --tw-scale-y: 1; --tw-pan-x: ; --tw-pan-y: ; --tw-pinch-zoom: ; --tw-scroll-snap-strictness: proximity; --tw-gradient-from-position: ; --tw-gradient-via-position: ; --tw-gradient-to-position: ; --tw-ordinal: ; --tw-slashed-zero: ; --tw-numeric-figure: ; --tw-numeric-spacing: ; --tw-numeric-fraction: ; --tw-ring-inset: ; --tw-ring-offset-width: 0px; --tw-ring-offset-color: #fff; --tw-ring-color: rgba(69,89,164,0.5); --tw-ring-offset-shadow: 0 0 transparent; --tw-ring-shadow: 0 0 transparent; --tw-shadow: 0 0 transparent; --tw-shadow-colored: 0 0 transparent; --tw-blur: ; --tw-brightness: ; --tw-contrast: ; --tw-grayscale: ; --tw-hue-rotate: ; --tw-invert: ; --tw-saturate: ; --tw-sepia: ; --tw-drop-shadow: ; --tw-backdrop-blur: ; --tw-backdrop-brightness: ; --tw-backdrop-contrast: ; --tw-backdrop-grayscale: ; --tw-backdrop-hue-rotate: ; --tw-backdrop-invert: ; --tw-backdrop-opacity: ; --tw-backdrop-saturate: ; --tw-backdrop-sepia: ; color: var(--tw-prose-bold); font-family: Söhne, ui-sans-serif, system-ui, -apple-system, &quot;Segoe UI&quot;, Roboto, Ubuntu, Cantarell, &quot;Noto Sans&quot;, sans-serif, &quot;Helvetica Neue&quot;, Arial, &quot;Apple Color Emoji&quot;, &quot;Segoe UI Emoji&quot;, &quot;Segoe UI Symbol&quot;, &quot;Noto Color Emoji&quot;; font-size: 16px; white-space: pre-wrap; background-color: rgb(247, 247, 248);\">2.Demonstração do Nível SERIALIZABLE Segunda Aba</span>**"
            ],
            "metadata": {
                "azdata_cell_guid": "3a4fe69e-b167-4b04-8157-ffa1887963fc"
            },
            "attachments": {}
        },
        {
            "cell_type": "code",
            "source": [
                "-- Iniciar a transação com nível SERIALIZABLE\r\n",
                "SET TRANSACTION ISOLATION LEVEL SERIALIZABLE;\r\n",
                "BEGIN TRANSACTION;\r\n",
                "\r\n",
                "-- Atualizar um valor na tabela\r\n",
                "UPDATE SerializableDemo SET Valor = 400 WHERE ID = 1;\r\n",
                "\r\n",
                "\r\n",
                "WAITFOR DELAY '00:00:10';\r\n",
                "-- Confirmar a transação\r\n",
                "COMMIT;"
            ],
            "metadata": {
                "azdata_cell_guid": "60884ff4-a879-4db8-b276-144a37197ec4",
                "language": "sql"
            },
            "outputs": [
                {
                    "output_type": "error",
                    "ename": "",
                    "evalue": "Msg 1222, Level 16, State 51, Line 6\r\nLock request time out period exceeded.",
                    "traceback": []
                },
                {
                    "output_type": "display_data",
                    "data": {
                        "text/html": "The statement has been terminated."
                    },
                    "metadata": {}
                },
                {
                    "output_type": "display_data",
                    "data": {
                        "text/html": "Total execution time: 00:00:15.029"
                    },
                    "metadata": {}
                }
            ],
            "execution_count": 4
        },
        {
            "cell_type": "markdown",
            "source": [
                "**<span style=\"border: 0px solid rgb(217, 217, 227); box-sizing: border-box; --tw-border-spacing-x: 0; --tw-border-spacing-y: 0; --tw-translate-x: 0; --tw-translate-y: 0; --tw-rotate: 0; --tw-skew-x: 0; --tw-skew-y: 0; --tw-scale-x: 1; --tw-scale-y: 1; --tw-pan-x: ; --tw-pan-y: ; --tw-pinch-zoom: ; --tw-scroll-snap-strictness: proximity; --tw-gradient-from-position: ; --tw-gradient-via-position: ; --tw-gradient-to-position: ; --tw-ordinal: ; --tw-slashed-zero: ; --tw-numeric-figure: ; --tw-numeric-spacing: ; --tw-numeric-fraction: ; --tw-ring-inset: ; --tw-ring-offset-width: 0px; --tw-ring-offset-color: #fff; --tw-ring-color: rgba(69,89,164,0.5); --tw-ring-offset-shadow: 0 0 transparent; --tw-ring-shadow: 0 0 transparent; --tw-shadow: 0 0 transparent; --tw-shadow-colored: 0 0 transparent; --tw-blur: ; --tw-brightness: ; --tw-contrast: ; --tw-grayscale: ; --tw-hue-rotate: ; --tw-invert: ; --tw-saturate: ; --tw-sepia: ; --tw-drop-shadow: ; --tw-backdrop-blur: ; --tw-backdrop-brightness: ; --tw-backdrop-contrast: ; --tw-backdrop-grayscale: ; --tw-backdrop-hue-rotate: ; --tw-backdrop-invert: ; --tw-backdrop-opacity: ; --tw-backdrop-saturate: ; --tw-backdrop-sepia: ; color: var(--tw-prose-bold); font-family: Söhne, ui-sans-serif, system-ui, -apple-system, &quot;Segoe UI&quot;, Roboto, Ubuntu, Cantarell, &quot;Noto Sans&quot;, sans-serif, &quot;Helvetica Neue&quot;, Arial, &quot;Apple Color Emoji&quot;, &quot;Segoe UI Emoji&quot;, &quot;Segoe UI Symbol&quot;, &quot;Noto Color Emoji&quot;; font-size: 16px; white-space: pre-wrap; background-color: rgb(247, 247, 248);\">3.Demonstração do Nível SERIALIZABLE Segunda Aba</span>**"
            ],
            "metadata": {
                "language": "sql",
                "azdata_cell_guid": "ff79b899-f0b1-4e29-8f49-ae9ac1ade4ee"
            },
            "attachments": {}
        },
        {
            "cell_type": "code",
            "source": [
                "INSERT INTO SerializableDemo\r\n",
                "VALUES(300)"
            ],
            "metadata": {
                "language": "sql",
                "azdata_cell_guid": "5986a632-40d9-483e-8db6-76bcbaac2593"
            },
            "outputs": [
                {
                    "output_type": "error",
                    "ename": "",
                    "evalue": "Msg 1222, Level 16, State 48, Line 1\r\nLock request time out period exceeded.",
                    "traceback": []
                },
                {
                    "output_type": "display_data",
                    "data": {
                        "text/html": "The statement has been terminated."
                    },
                    "metadata": {}
                },
                {
                    "output_type": "display_data",
                    "data": {
                        "text/html": "Total execution time: 00:00:05.010"
                    },
                    "metadata": {}
                }
            ],
            "execution_count": 5
        },
        {
            "cell_type": "markdown",
            "source": [
                "# <span style=\"font-size: 16px; white-space: pre-wrap;\"><b>REPEATABLE READ</b></span>"
            ],
            "metadata": {
                "language": "sql",
                "azdata_cell_guid": "bfa7f187-08de-406c-a15e-db723262b48c"
            },
            "attachments": {}
        },
        {
            "cell_type": "markdown",
            "source": [
                "\\* <span style=\"border: 0px solid rgb(217, 217, 227); box-sizing: border-box; --tw-border-spacing-x: 0; --tw-border-spacing-y: 0; --tw-translate-x: 0; --tw-translate-y: 0; --tw-rotate: 0; --tw-skew-x: 0; --tw-skew-y: 0; --tw-scale-x: 1; --tw-scale-y: 1; --tw-pan-x: ; --tw-pan-y: ; --tw-pinch-zoom: ; --tw-scroll-snap-strictness: proximity; --tw-gradient-from-position: ; --tw-gradient-via-position: ; --tw-gradient-to-position: ; --tw-ordinal: ; --tw-slashed-zero: ; --tw-numeric-figure: ; --tw-numeric-spacing: ; --tw-numeric-fraction: ; --tw-ring-inset: ; --tw-ring-offset-width: 0px; --tw-ring-offset-color: #fff; --tw-ring-color: rgba(69,89,164,0.5); --tw-ring-offset-shadow: 0 0 transparent; --tw-ring-shadow: 0 0 transparent; --tw-shadow: 0 0 transparent; --tw-shadow-colored: 0 0 transparent; --tw-blur: ; --tw-brightness: ; --tw-contrast: ; --tw-grayscale: ; --tw-hue-rotate: ; --tw-invert: ; --tw-saturate: ; --tw-sepia: ; --tw-drop-shadow: ; --tw-backdrop-blur: ; --tw-backdrop-brightness: ; --tw-backdrop-contrast: ; --tw-backdrop-grayscale: ; --tw-backdrop-hue-rotate: ; --tw-backdrop-invert: ; --tw-backdrop-opacity: ; --tw-backdrop-saturate: ; --tw-backdrop-sepia: ; background-color: rgb(247, 247, 248);\"><font color=\"rgba(0, 0, 0, 0)\" face=\"Söhne, ui-sans-serif, system-ui, -apple-system, Segoe UI, Roboto, Ubuntu, Cantarell, Noto Sans, sans-serif, Helvetica Neue, Arial, Apple Color Emoji, Segoe UI Emoji, Segoe UI Symbol, Noto Color Emoji\"><span style=\"font-size: 16px; white-space: pre-wrap;\"><b>1.Demonstração do Nível </b></span></font><font face=\"Söhne, ui-sans-serif, system-ui, -apple-system, Segoe UI, Roboto, Ubuntu, Cantarell, Noto Sans, sans-serif, Helvetica Neue, Arial, Apple Color Emoji, Segoe UI Emoji, Segoe UI Symbol, Noto Color Emoji\"><span style=\"font-size: 16px; white-space: pre-wrap;\"><b>REPEATABLE READ </b></span></font><font color=\"rgba(0, 0, 0, 0)\" face=\"Söhne, ui-sans-serif, system-ui, -apple-system, Segoe UI, Roboto, Ubuntu, Cantarell, Noto Sans, sans-serif, Helvetica Neue, Arial, Apple Color Emoji, Segoe UI Emoji, Segoe UI Symbol, Noto Color Emoji\"><span style=\"font-size: 16px; white-space: pre-wrap;\"><b>Segunda Aba</b></span></font></span>"
            ],
            "metadata": {
                "language": "sql",
                "azdata_cell_guid": "44a56059-961c-49bd-9624-c376887e42c6"
            },
            "attachments": {}
        },
        {
            "cell_type": "code",
            "source": [
                "\r\n",
                "SET LOCK_TIMEOUT -1\r\n",
                "\r\n",
                "-- Iniciar a transação com nível REPEATABLE READ\r\n",
                "SET TRANSACTION ISOLATION LEVEL REPEATABLE READ;\r\n",
                "BEGIN TRANSACTION;\r\n",
                "\r\n",
                "-- Atualizar um valor na tabela\r\n",
                "UPDATE SerializableDemo SET Valor = 400 WHERE ID = 1;\r\n",
                "\r\n",
                "-- Aguardar por alguns segundos (simulando algum processamento)\r\n",
                "WAITFOR DELAY '00:00:10';\r\n",
                "-- Confirmar a transação\r\n",
                "COMMIT;"
            ],
            "metadata": {
                "language": "sql",
                "azdata_cell_guid": "a69d0d46-7b1b-490a-b74c-d67f8d24d2ab"
            },
            "outputs": [
                {
                    "output_type": "display_data",
                    "data": {
                        "text/html": "(1 row affected)"
                    },
                    "metadata": {}
                },
                {
                    "output_type": "display_data",
                    "data": {
                        "text/html": "Total execution time: 00:00:10.047"
                    },
                    "metadata": {}
                }
            ],
            "execution_count": 3
        },
        {
            "cell_type": "markdown",
            "source": [
                "\\* 2<span style=\"border: 0px solid rgb(217, 217, 227); box-sizing: border-box; --tw-border-spacing-x: 0; --tw-border-spacing-y: 0; --tw-translate-x: 0; --tw-translate-y: 0; --tw-rotate: 0; --tw-skew-x: 0; --tw-skew-y: 0; --tw-scale-x: 1; --tw-scale-y: 1; --tw-pan-x: ; --tw-pan-y: ; --tw-pinch-zoom: ; --tw-scroll-snap-strictness: proximity; --tw-gradient-from-position: ; --tw-gradient-via-position: ; --tw-gradient-to-position: ; --tw-ordinal: ; --tw-slashed-zero: ; --tw-numeric-figure: ; --tw-numeric-spacing: ; --tw-numeric-fraction: ; --tw-ring-inset: ; --tw-ring-offset-width: 0px; --tw-ring-offset-color: #fff; --tw-ring-color: rgba(69,89,164,0.5); --tw-ring-offset-shadow: 0 0 transparent; --tw-ring-shadow: 0 0 transparent; --tw-shadow: 0 0 transparent; --tw-shadow-colored: 0 0 transparent; --tw-blur: ; --tw-brightness: ; --tw-contrast: ; --tw-grayscale: ; --tw-hue-rotate: ; --tw-invert: ; --tw-saturate: ; --tw-sepia: ; --tw-drop-shadow: ; --tw-backdrop-blur: ; --tw-backdrop-brightness: ; --tw-backdrop-contrast: ; --tw-backdrop-grayscale: ; --tw-backdrop-hue-rotate: ; --tw-backdrop-invert: ; --tw-backdrop-opacity: ; --tw-backdrop-saturate: ; --tw-backdrop-sepia: ; background-color: rgb(247, 247, 248);\"><font color=\"rgba(0, 0, 0, 0)\" face=\"Söhne, ui-sans-serif, system-ui, -apple-system, Segoe UI, Roboto, Ubuntu, Cantarell, Noto Sans, sans-serif, Helvetica Neue, Arial, Apple Color Emoji, Segoe UI Emoji, Segoe UI Symbol, Noto Color Emoji\"><span style=\"font-size: 16px; white-space: pre-wrap;\"><b>.Demonstração do Nível </b></span></font><font face=\"Söhne, ui-sans-serif, system-ui, -apple-system, Segoe UI, Roboto, Ubuntu, Cantarell, Noto Sans, sans-serif, Helvetica Neue, Arial, Apple Color Emoji, Segoe UI Emoji, Segoe UI Symbol, Noto Color Emoji\"><span style=\"font-size: 16px; white-space: pre-wrap;\"><b>REPEATABLE READ (</b></span></font></span>**Phantom Read**<span style=\"font-size: 16px; white-space: pre-wrap;\"><b>) </b></span> <span style=\"font-size: 16px; white-space: pre-wrap;\"><b>Segunda Aba</b></span>"
            ],
            "metadata": {
                "language": "sql",
                "azdata_cell_guid": "3e8153ba-bdd7-4731-b58c-070203dea6ae"
            },
            "attachments": {}
        },
        {
            "cell_type": "code",
            "source": [
                "-- Inserir uma nova linha na tabela\r\n",
                "INSERT INTO Empregados (ID, Nome) VALUES \r\n",
                "(2, 'Fantasma');\r\n",
                ""
            ],
            "metadata": {
                "language": "sql",
                "azdata_cell_guid": "8679d520-5e4b-4733-b917-c70e155099c0",
                "tags": []
            },
            "outputs": [
                {
                    "output_type": "display_data",
                    "data": {
                        "text/html": "(1 row affected)"
                    },
                    "metadata": {}
                },
                {
                    "output_type": "display_data",
                    "data": {
                        "text/html": "Total execution time: 00:00:01.720"
                    },
                    "metadata": {}
                }
            ],
            "execution_count": 10
        },
        {
            "cell_type": "code",
            "source": [
                "SELECT * from Empregados"
            ],
            "metadata": {
                "language": "sql",
                "azdata_cell_guid": "a39fe74a-49e2-4999-a905-f688b3dbc98a"
            },
            "outputs": [
                {
                    "output_type": "display_data",
                    "data": {
                        "text/html": "(4 rows affected)"
                    },
                    "metadata": {}
                },
                {
                    "output_type": "display_data",
                    "data": {
                        "text/html": "Total execution time: 00:00:00.008"
                    },
                    "metadata": {}
                },
                {
                    "output_type": "execute_result",
                    "execution_count": 11,
                    "data": {
                        "application/vnd.dataresource+json": {
                            "schema": {
                                "fields": [
                                    {
                                        "name": "ID"
                                    },
                                    {
                                        "name": "Nome"
                                    }
                                ]
                            },
                            "data": [
                                {
                                    "ID": "1",
                                    "Nome": "João"
                                },
                                {
                                    "ID": "2",
                                    "Nome": "Fantasma"
                                },
                                {
                                    "ID": "3",
                                    "Nome": "Pedro"
                                },
                                {
                                    "ID": "100",
                                    "Nome": "Carlos"
                                }
                            ]
                        },
                        "text/html": "<table><tr><th>ID</th><th>Nome</th></tr><tr><td>1</td><td>João</td></tr><tr><td>2</td><td>Fantasma</td></tr><tr><td>3</td><td>Pedro</td></tr><tr><td>100</td><td>Carlos</td></tr></table>"
                    },
                    "metadata": {}
                }
            ],
            "execution_count": 11
        },
        {
            "cell_type": "markdown",
            "source": [
                "# <span style=\"font-size: 16px; white-space: pre-wrap;\"><b>READ COMMITTED</b></span>"
            ],
            "metadata": {
                "language": "sql",
                "azdata_cell_guid": "6a9c603d-c7d8-442f-a825-a59b01c45e04"
            },
            "attachments": {}
        },
        {
            "cell_type": "markdown",
            "source": [
                "<span style=\"font-size: 16px; white-space: pre-wrap;\"><b>1.Demonstração do Nível </b></span>  **READ COMMITTED**  <span style=\"color: var(--vscode-foreground); font-size: 16px; white-space: pre-wrap;\"><b>Segunda Aba</b></span>"
            ],
            "metadata": {
                "language": "sql",
                "azdata_cell_guid": "079a7414-aac3-424c-b251-cd3de4e0e1f7"
            },
            "attachments": {}
        },
        {
            "cell_type": "code",
            "source": [
                "\r\n",
                "SET TRANSACTION  ISOLATION LEVEL READ COMMITTED\r\n",
                "\r\n",
                "\r\n",
                "-- Selecionar e exibir os valores da tabela\r\n",
                "SELECT * FROM ReadCommittedDemo;\r\n",
                "\r\n",
                " \r\n",
                "\r\n",
                ""
            ],
            "metadata": {
                "language": "sql",
                "azdata_cell_guid": "d4ec11b3-f3cc-415e-bed2-6267e2c44980"
            },
            "outputs": [
                {
                    "output_type": "display_data",
                    "data": {
                        "text/html": "(3 rows affected)"
                    },
                    "metadata": {}
                },
                {
                    "output_type": "display_data",
                    "data": {
                        "text/html": "Total execution time: 00:00:17.166"
                    },
                    "metadata": {}
                },
                {
                    "output_type": "execute_result",
                    "metadata": {},
                    "execution_count": 5,
                    "data": {
                        "application/vnd.dataresource+json": {
                            "schema": {
                                "fields": [
                                    {
                                        "name": "ID"
                                    },
                                    {
                                        "name": "Valor"
                                    }
                                ]
                            },
                            "data": [
                                {
                                    "ID": "1",
                                    "Valor": "100"
                                },
                                {
                                    "ID": "2",
                                    "Valor": "200"
                                },
                                {
                                    "ID": "3",
                                    "Valor": "300"
                                }
                            ]
                        },
                        "text/html": [
                            "<table>",
                            "<tr><th>ID</th><th>Valor</th></tr>",
                            "<tr><td>1</td><td>100</td></tr>",
                            "<tr><td>2</td><td>200</td></tr>",
                            "<tr><td>3</td><td>300</td></tr>",
                            "</table>"
                        ]
                    }
                }
            ],
            "execution_count": 5
        },
        {
            "cell_type": "markdown",
            "source": [
                "<span style=\"font-size: 16px; white-space: pre-wrap;\"><b>2.Demonstração do Nível </b></span>   **READ COMMITTED**  <span style=\"color: var(--vscode-foreground); font-size: 16px; white-space: pre-wrap;\"><b>Segunda Aba</b></span>"
            ],
            "metadata": {
                "language": "sql",
                "azdata_cell_guid": "8a63d31f-3912-4dab-abf0-f48dc8647344"
            },
            "attachments": {}
        },
        {
            "cell_type": "code",
            "source": [
                "-- Iniciar a transação com nível READ COMMITTED\r\n",
                "SET TRANSACTION  ISOLATION LEVEL READ COMMITTED\r\n",
                "\r\n",
                "SET LOCK_TIMEOUT -1; \r\n",
                "\r\n",
                "BEGIN TRANSACTION;\r\n",
                "\r\n",
                "-- Selecionar e exibir os valores da tabela\r\n",
                "SELECT * FROM ReadCommittedDemo\r\n",
                "Where ID BETWEEN 1 and 3\r\n",
                "\r\n",
                " \r\n",
                "\r\n",
                "-- Confirmar a transação\r\n",
                "COMMIT;"
            ],
            "metadata": {
                "language": "sql",
                "azdata_cell_guid": "f5e3b259-97d5-46c6-aeae-2f5e160b175a",
                "tags": []
            },
            "outputs": [
                {
                    "output_type": "display_data",
                    "data": {
                        "text/html": "(3 rows affected)"
                    },
                    "metadata": {}
                },
                {
                    "output_type": "display_data",
                    "data": {
                        "text/html": "Total execution time: 00:00:00.005"
                    },
                    "metadata": {}
                },
                {
                    "output_type": "execute_result",
                    "metadata": {},
                    "execution_count": 6,
                    "data": {
                        "application/vnd.dataresource+json": {
                            "schema": {
                                "fields": [
                                    {
                                        "name": "ID"
                                    },
                                    {
                                        "name": "Valor"
                                    }
                                ]
                            },
                            "data": [
                                {
                                    "ID": "1",
                                    "Valor": "100"
                                },
                                {
                                    "ID": "2",
                                    "Valor": "200"
                                },
                                {
                                    "ID": "3",
                                    "Valor": "300"
                                }
                            ]
                        },
                        "text/html": [
                            "<table>",
                            "<tr><th>ID</th><th>Valor</th></tr>",
                            "<tr><td>1</td><td>100</td></tr>",
                            "<tr><td>2</td><td>200</td></tr>",
                            "<tr><td>3</td><td>300</td></tr>",
                            "</table>"
                        ]
                    }
                }
            ],
            "execution_count": 6
        },
        {
            "cell_type": "markdown",
            "source": [
                "<span style=\"font-size: 16px; white-space: pre-wrap;\"><b>3.Demonstração do Nível </b></span>    **READ COMMITTED**  <span style=\"color: var(--vscode-foreground); font-size: 16px; white-space: pre-wrap;\"><b>Segunda Aba</b></span>"
            ],
            "metadata": {
                "language": "sql",
                "azdata_cell_guid": "2a74aa3a-c284-478c-9921-3d3b3fd5d84f"
            },
            "attachments": {}
        },
        {
            "cell_type": "code",
            "source": [
                "-- Iniciar a transação com nível READ COMMITTED\r\n",
                "SET TRANSACTION  ISOLATION LEVEL READ COMMITTED\r\n",
                "\r\n",
                "SET LOCK_TIMEOUT -1; \r\n",
                "\r\n",
                "BEGIN TRANSACTION;\r\n",
                "\r\n",
                "-- Selecionar e exibir os valores da tabela\r\n",
                "SELECT * FROM ReadCommittedDemo\r\n",
                "Where ID BETWEEN 1 and 3\r\n",
                " \r\n",
                "\r\n",
                "-- Confirmar a transação\r\n",
                "COMMIT;"
            ],
            "metadata": {
                "language": "sql",
                "azdata_cell_guid": "c2921f69-1016-4c5d-b742-d97dddb1ebf1"
            },
            "outputs": [
                {
                    "output_type": "display_data",
                    "data": {
                        "text/html": "(3 rows affected)"
                    },
                    "metadata": {}
                },
                {
                    "output_type": "display_data",
                    "data": {
                        "text/html": "Total execution time: 00:00:00.005"
                    },
                    "metadata": {}
                },
                {
                    "output_type": "execute_result",
                    "metadata": {},
                    "execution_count": 8,
                    "data": {
                        "application/vnd.dataresource+json": {
                            "schema": {
                                "fields": [
                                    {
                                        "name": "ID"
                                    },
                                    {
                                        "name": "Valor"
                                    }
                                ]
                            },
                            "data": [
                                {
                                    "ID": "1",
                                    "Valor": "100"
                                },
                                {
                                    "ID": "2",
                                    "Valor": "200"
                                },
                                {
                                    "ID": "3",
                                    "Valor": "300"
                                }
                            ]
                        },
                        "text/html": [
                            "<table>",
                            "<tr><th>ID</th><th>Valor</th></tr>",
                            "<tr><td>1</td><td>100</td></tr>",
                            "<tr><td>2</td><td>200</td></tr>",
                            "<tr><td>3</td><td>300</td></tr>",
                            "</table>"
                        ]
                    }
                }
            ],
            "execution_count": 8
        },
        {
            "cell_type": "markdown",
            "source": [
                "### **READ UNCOMMITTED**"
            ],
            "metadata": {
                "language": "sql",
                "azdata_cell_guid": "4d230cb6-afd8-405f-b780-bbb89eb96959"
            },
            "attachments": {}
        },
        {
            "cell_type": "markdown",
            "source": [
                "**<span style=\"border: 0px solid rgb(217, 217, 227); box-sizing: border-box; --tw-border-spacing-x: 0; --tw-border-spacing-y: 0; --tw-translate-x: 0; --tw-translate-y: 0; --tw-rotate: 0; --tw-skew-x: 0; --tw-skew-y: 0; --tw-scale-x: 1; --tw-scale-y: 1; --tw-pan-x: ; --tw-pan-y: ; --tw-pinch-zoom: ; --tw-scroll-snap-strictness: proximity; --tw-gradient-from-position: ; --tw-gradient-via-position: ; --tw-gradient-to-position: ; --tw-ordinal: ; --tw-slashed-zero: ; --tw-numeric-figure: ; --tw-numeric-spacing: ; --tw-numeric-fraction: ; --tw-ring-inset: ; --tw-ring-offset-width: 0px; --tw-ring-offset-color: #fff; --tw-ring-color: rgba(69,89,164,0.5); --tw-ring-offset-shadow: 0 0 transparent; --tw-ring-shadow: 0 0 transparent; --tw-shadow: 0 0 transparent; --tw-shadow-colored: 0 0 transparent; --tw-blur: ; --tw-brightness: ; --tw-contrast: ; --tw-grayscale: ; --tw-hue-rotate: ; --tw-invert: ; --tw-saturate: ; --tw-sepia: ; --tw-drop-shadow: ; --tw-backdrop-blur: ; --tw-backdrop-brightness: ; --tw-backdrop-contrast: ; --tw-backdrop-grayscale: ; --tw-backdrop-hue-rotate: ; --tw-backdrop-invert: ; --tw-backdrop-opacity: ; --tw-backdrop-saturate: ; --tw-backdrop-sepia: ; color: var(--tw-prose-bold); font-family: Söhne, ui-sans-serif, system-ui, -apple-system, &quot;Segoe UI&quot;, Roboto, Ubuntu, Cantarell, &quot;Noto Sans&quot;, sans-serif, &quot;Helvetica Neue&quot;, Arial, &quot;Apple Color Emoji&quot;, &quot;Segoe UI Emoji&quot;, &quot;Segoe UI Symbol&quot;, &quot;Noto Color Emoji&quot;; font-size: 16px; white-space: pre-wrap; background-color: rgb(247, 247, 248);\">1.Demonstração do Nível </span>** **READ UNCOMMITTED**  **<span style=\"border: 0px solid rgb(217, 217, 227); box-sizing: border-box; --tw-border-spacing-x: 0; --tw-border-spacing-y: 0; --tw-translate-x: 0; --tw-translate-y: 0; --tw-rotate: 0; --tw-skew-x: 0; --tw-skew-y: 0; --tw-scale-x: 1; --tw-scale-y: 1; --tw-pan-x: ; --tw-pan-y: ; --tw-pinch-zoom: ; --tw-scroll-snap-strictness: proximity; --tw-gradient-from-position: ; --tw-gradient-via-position: ; --tw-gradient-to-position: ; --tw-ordinal: ; --tw-slashed-zero: ; --tw-numeric-figure: ; --tw-numeric-spacing: ; --tw-numeric-fraction: ; --tw-ring-inset: ; --tw-ring-offset-width: 0px; --tw-ring-offset-color: #fff; --tw-ring-color: rgba(69,89,164,0.5); --tw-ring-offset-shadow: 0 0 transparent; --tw-ring-shadow: 0 0 transparent; --tw-shadow: 0 0 transparent; --tw-shadow-colored: 0 0 transparent; --tw-blur: ; --tw-brightness: ; --tw-contrast: ; --tw-grayscale: ; --tw-hue-rotate: ; --tw-invert: ; --tw-saturate: ; --tw-sepia: ; --tw-drop-shadow: ; --tw-backdrop-blur: ; --tw-backdrop-brightness: ; --tw-backdrop-contrast: ; --tw-backdrop-grayscale: ; --tw-backdrop-hue-rotate: ; --tw-backdrop-invert: ; --tw-backdrop-opacity: ; --tw-backdrop-saturate: ; --tw-backdrop-sepia: ; color: var(--tw-prose-bold); font-family: Söhne, ui-sans-serif, system-ui, -apple-system, &quot;Segoe UI&quot;, Roboto, Ubuntu, Cantarell, &quot;Noto Sans&quot;, sans-serif, &quot;Helvetica Neue&quot;, Arial, &quot;Apple Color Emoji&quot;, &quot;Segoe UI Emoji&quot;, &quot;Segoe UI Symbol&quot;, &quot;Noto Color Emoji&quot;; font-size: 16px; white-space: pre-wrap; background-color: rgb(247, 247, 248);\">Segunda Aba</span>**"
            ],
            "metadata": {
                "language": "sql",
                "azdata_cell_guid": "eab3e9a3-7e72-4cdc-a41b-4723dcf312f3"
            },
            "attachments": {}
        },
        {
            "cell_type": "code",
            "source": [
                "\r\n",
                "\r\n",
                "\r\n",
                "-- Iniciar a transação com nível READ COMMITTED\r\n",
                "SET TRANSACTION  ISOLATION LEVEL READ UNCOMMITTED\r\n",
                "\r\n",
                "SET LOCK_TIMEOUT -1; \r\n",
                "\r\n",
                "BEGIN TRANSACTION;\r\n",
                "\r\n",
                "-- Selecionar e exibir os valores da tabela\r\n",
                "SELECT * FROM ReadUmCommittedDemo;\r\n",
                "\r\n",
                " \r\n",
                "\r\n",
                "-- Confirmar a transação\r\n",
                "COMMIT;"
            ],
            "metadata": {
                "language": "sql",
                "azdata_cell_guid": "05c3d691-e9e8-44da-8942-da284759aca7"
            },
            "outputs": [
                {
                    "output_type": "display_data",
                    "data": {
                        "text/html": "(3 rows affected)"
                    },
                    "metadata": {}
                },
                {
                    "output_type": "display_data",
                    "data": {
                        "text/html": "Total execution time: 00:00:00.004"
                    },
                    "metadata": {}
                },
                {
                    "output_type": "execute_result",
                    "metadata": {},
                    "execution_count": 10,
                    "data": {
                        "application/vnd.dataresource+json": {
                            "schema": {
                                "fields": [
                                    {
                                        "name": "ID"
                                    },
                                    {
                                        "name": "Valor"
                                    }
                                ]
                            },
                            "data": [
                                {
                                    "ID": "1",
                                    "Valor": "100"
                                },
                                {
                                    "ID": "2",
                                    "Valor": "200"
                                },
                                {
                                    "ID": "3",
                                    "Valor": "300"
                                }
                            ]
                        },
                        "text/html": [
                            "<table>",
                            "<tr><th>ID</th><th>Valor</th></tr>",
                            "<tr><td>1</td><td>100</td></tr>",
                            "<tr><td>2</td><td>200</td></tr>",
                            "<tr><td>3</td><td>300</td></tr>",
                            "</table>"
                        ]
                    }
                }
            ],
            "execution_count": 10
        },
        {
            "cell_type": "markdown",
            "source": [
                "<span style=\"border: 0px solid rgb(217, 217, 227); box-sizing: border-box; --tw-border-spacing-x: 0; --tw-border-spacing-y: 0; --tw-translate-x: 0; --tw-translate-y: 0; --tw-rotate: 0; --tw-skew-x: 0; --tw-skew-y: 0; --tw-scale-x: 1; --tw-scale-y: 1; --tw-pan-x: ; --tw-pan-y: ; --tw-pinch-zoom: ; --tw-scroll-snap-strictness: proximity; --tw-gradient-from-position: ; --tw-gradient-via-position: ; --tw-gradient-to-position: ; --tw-ordinal: ; --tw-slashed-zero: ; --tw-numeric-figure: ; --tw-numeric-spacing: ; --tw-numeric-fraction: ; --tw-ring-inset: ; --tw-ring-offset-width: 0px; --tw-ring-offset-color: #fff; --tw-ring-color: rgba(69,89,164,0.5); --tw-ring-offset-shadow: 0 0 transparent; --tw-ring-shadow: 0 0 transparent; --tw-shadow: 0 0 transparent; --tw-shadow-colored: 0 0 transparent; --tw-blur: ; --tw-brightness: ; --tw-contrast: ; --tw-grayscale: ; --tw-hue-rotate: ; --tw-invert: ; --tw-saturate: ; --tw-sepia: ; --tw-drop-shadow: ; --tw-backdrop-blur: ; --tw-backdrop-brightness: ; --tw-backdrop-contrast: ; --tw-backdrop-grayscale: ; --tw-backdrop-hue-rotate: ; --tw-backdrop-invert: ; --tw-backdrop-opacity: ; --tw-backdrop-saturate: ; --tw-backdrop-sepia: ; background-color: rgb(247, 247, 248);\"><span style=\"background-color: rgb(255, 255, 254); font-size: 16px; white-space: pre-wrap;\"><b>2.Demonstração do Nível </b></span><span style=\"background-color: rgb(255, 255, 254);\">&nbsp;&nbsp;</span><strong style=\"background-color: rgb(255, 255, 254);\">READ&nbsp;&nbsp;</strong></span>  **UNCOMMITTED** <span style=\"color: var(--vscode-foreground); font-size: 16px; white-space: pre-wrap;\"><b>Segunda Aba</b></span>"
            ],
            "metadata": {
                "language": "sql",
                "azdata_cell_guid": "42100daa-bd9d-4e5d-a2bb-3887adec1fa2"
            },
            "attachments": {}
        },
        {
            "cell_type": "code",
            "source": [
                "-- Iniciar a transação com nível READ UNCOMMITTED\r\n",
                "SET TRANSACTION  ISOLATION LEVEL READ UNCOMMITTED\r\n",
                "\r\n",
                "SET LOCK_TIMEOUT -1; \r\n",
                "\r\n",
                "BEGIN TRANSACTION;\r\n",
                "\r\n",
                "-- Selecionar e exibir os valores da tabela\r\n",
                "SELECT * FROM ReadUmCommittedDemo;\r\n",
                "\r\n",
                " \r\n",
                "\r\n",
                "-- Confirmar a transação\r\n",
                "COMMIT;"
            ],
            "metadata": {
                "language": "sql",
                "azdata_cell_guid": "88e5379d-95f4-4cfe-8a50-551acece74f6"
            },
            "outputs": [
                {
                    "output_type": "display_data",
                    "data": {
                        "text/html": "(3 rows affected)"
                    },
                    "metadata": {}
                },
                {
                    "output_type": "display_data",
                    "data": {
                        "text/html": "Total execution time: 00:00:00.003"
                    },
                    "metadata": {}
                },
                {
                    "output_type": "execute_result",
                    "metadata": {},
                    "execution_count": 14,
                    "data": {
                        "application/vnd.dataresource+json": {
                            "schema": {
                                "fields": [
                                    {
                                        "name": "ID"
                                    },
                                    {
                                        "name": "Valor"
                                    }
                                ]
                            },
                            "data": [
                                {
                                    "ID": "1",
                                    "Valor": "100"
                                },
                                {
                                    "ID": "2",
                                    "Valor": "200"
                                },
                                {
                                    "ID": "3",
                                    "Valor": "300"
                                }
                            ]
                        },
                        "text/html": [
                            "<table>",
                            "<tr><th>ID</th><th>Valor</th></tr>",
                            "<tr><td>1</td><td>100</td></tr>",
                            "<tr><td>2</td><td>200</td></tr>",
                            "<tr><td>3</td><td>300</td></tr>",
                            "</table>"
                        ]
                    }
                }
            ],
            "execution_count": 14
        },
        {
            "cell_type": "markdown",
            "source": [
                "<span style=\"color: rgb(61, 61, 61); font-family: Montserrat; font-size: 26.6px; font-weight: 700; background-color: rgb(255, 255, 255);\">Read Committed Snapshot Isolation</span>"
            ],
            "metadata": {
                "language": "sql",
                "azdata_cell_guid": "b2ac4c17-3358-4cf6-a467-9e47d195ca09"
            },
            "attachments": {}
        },
        {
            "cell_type": "markdown",
            "source": [
                "**1.Demonstração do Nível READ\\_COMMITTED\\_SNAPSHOT  Segunda Aba**"
            ],
            "metadata": {
                "language": "sql",
                "azdata_cell_guid": "dd8c4364-f24c-4698-9126-4e9576341dbe"
            },
            "attachments": {}
        },
        {
            "cell_type": "code",
            "source": [
                "-- Iniciar a transação com nível READ UNCOMMITTED\r\n",
                "SET TRANSACTION  ISOLATION LEVEL READ COMMITTED\r\n",
                "\r\n",
                "SET LOCK_TIMEOUT -1; \r\n",
                "\r\n",
                "BEGIN TRANSACTION;\r\n",
                "\r\n",
                "-- Selecionar e exibir os valores da tabela\r\n",
                "SELECT * FROM ReadCommittedSNAPSHOTDemo;\r\n",
                "\r\n",
                " \r\n",
                "\r\n",
                "-- Confirmar a transação\r\n",
                "COMMIT;"
            ],
            "metadata": {
                "language": "sql",
                "azdata_cell_guid": "090354e1-c97e-432f-8e27-aa3e380d457b"
            },
            "outputs": [
                {
                    "output_type": "display_data",
                    "data": {
                        "text/html": "(2 rows affected)"
                    },
                    "metadata": {}
                },
                {
                    "output_type": "display_data",
                    "data": {
                        "text/html": "Total execution time: 00:00:00.003"
                    },
                    "metadata": {}
                },
                {
                    "output_type": "execute_result",
                    "metadata": {},
                    "execution_count": 18,
                    "data": {
                        "application/vnd.dataresource+json": {
                            "schema": {
                                "fields": [
                                    {
                                        "name": "ID"
                                    },
                                    {
                                        "name": "Valor"
                                    }
                                ]
                            },
                            "data": [
                                {
                                    "ID": "1",
                                    "Valor": "100"
                                },
                                {
                                    "ID": "2",
                                    "Valor": "200"
                                }
                            ]
                        },
                        "text/html": [
                            "<table>",
                            "<tr><th>ID</th><th>Valor</th></tr>",
                            "<tr><td>1</td><td>100</td></tr>",
                            "<tr><td>2</td><td>200</td></tr>",
                            "</table>"
                        ]
                    }
                }
            ],
            "execution_count": 18
        },
        {
            "cell_type": "markdown",
            "source": [
                "**2.Demonstração do Nível READ\\_COMMITTED\\_SNAPSHOT  Segunda Aba**"
            ],
            "metadata": {
                "language": "sql",
                "azdata_cell_guid": "c4a1562a-421d-422f-8372-0f37de518b35"
            },
            "attachments": {}
        },
        {
            "cell_type": "code",
            "source": [
                "-- Iniciar a transação com nível READ UNCOMMITTED\r\n",
                "SET TRANSACTION  ISOLATION LEVEL READ UNCOMMITTED\r\n",
                "\r\n",
                "SET LOCK_TIMEOUT -1; \r\n",
                "\r\n",
                "BEGIN TRANSACTION;\r\n",
                "\r\n",
                "-- Selecionar e exibir os valores da tabela\r\n",
                "SELECT * FROM ReadCommittedSNAPSHOTDemo;\r\n",
                "\r\n",
                " \r\n",
                "\r\n",
                "-- Confirmar a transação\r\n",
                "COMMIT;"
            ],
            "metadata": {
                "language": "sql",
                "azdata_cell_guid": "0f5bc3c3-88ee-40b4-8878-de569775b1b6"
            },
            "outputs": [
                {
                    "output_type": "display_data",
                    "data": {
                        "text/html": "(4 rows affected)"
                    },
                    "metadata": {}
                },
                {
                    "output_type": "display_data",
                    "data": {
                        "text/html": "Total execution time: 00:00:00.007"
                    },
                    "metadata": {}
                },
                {
                    "output_type": "execute_result",
                    "metadata": {},
                    "execution_count": 19,
                    "data": {
                        "application/vnd.dataresource+json": {
                            "schema": {
                                "fields": [
                                    {
                                        "name": "ID"
                                    },
                                    {
                                        "name": "Valor"
                                    }
                                ]
                            },
                            "data": [
                                {
                                    "ID": "1",
                                    "Valor": "100"
                                },
                                {
                                    "ID": "2",
                                    "Valor": "200"
                                },
                                {
                                    "ID": "3",
                                    "Valor": "300"
                                },
                                {
                                    "ID": "4",
                                    "Valor": "400"
                                }
                            ]
                        },
                        "text/html": [
                            "<table>",
                            "<tr><th>ID</th><th>Valor</th></tr>",
                            "<tr><td>1</td><td>100</td></tr>",
                            "<tr><td>2</td><td>200</td></tr>",
                            "<tr><td>3</td><td>300</td></tr>",
                            "<tr><td>4</td><td>400</td></tr>",
                            "</table>"
                        ]
                    }
                }
            ],
            "execution_count": 19
        },
        {
            "cell_type": "markdown",
            "source": [
                "**3.Demonstração do Nível READ\\_COMMITTED\\_SNAPSHOT  Segunda Aba**"
            ],
            "metadata": {
                "language": "sql",
                "azdata_cell_guid": "596e22c8-ea49-4714-9df0-abd47bfdf891"
            },
            "attachments": {}
        },
        {
            "cell_type": "code",
            "source": [
                "-- Iniciar a transação com nível READ UNCOMMITTED\r\n",
                "SET TRANSACTION  ISOLATION LEVEL READ COMMITTED\r\n",
                "\r\n",
                "SET LOCK_TIMEOUT -1; \r\n",
                "\r\n",
                "BEGIN TRANSACTION;\r\n",
                "\r\n",
                "-- Selecionar e exibir os valores da tabela\r\n",
                "SELECT * FROM ReadCommittedSNAPSHOTDemo;\r\n",
                "\r\n",
                " \r\n",
                "\r\n",
                "-- Confirmar a transação\r\n",
                "COMMIT;"
            ],
            "metadata": {
                "language": "sql",
                "azdata_cell_guid": "63792df2-03b3-4ed8-8838-e2c09a885ced"
            },
            "outputs": [
                {
                    "output_type": "display_data",
                    "data": {
                        "text/html": "(2 rows affected)"
                    },
                    "metadata": {}
                },
                {
                    "output_type": "display_data",
                    "data": {
                        "text/html": "Total execution time: 00:00:00.003"
                    },
                    "metadata": {}
                },
                {
                    "output_type": "execute_result",
                    "metadata": {},
                    "execution_count": 25,
                    "data": {
                        "application/vnd.dataresource+json": {
                            "schema": {
                                "fields": [
                                    {
                                        "name": "ID"
                                    },
                                    {
                                        "name": "Valor"
                                    }
                                ]
                            },
                            "data": [
                                {
                                    "ID": "1",
                                    "Valor": "1000"
                                },
                                {
                                    "ID": "2",
                                    "Valor": "200"
                                }
                            ]
                        },
                        "text/html": [
                            "<table>",
                            "<tr><th>ID</th><th>Valor</th></tr>",
                            "<tr><td>1</td><td>1000</td></tr>",
                            "<tr><td>2</td><td>200</td></tr>",
                            "</table>"
                        ]
                    }
                }
            ],
            "execution_count": 25
        },
        {
            "cell_type": "code",
            "source": [
                ""
            ],
            "metadata": {
                "language": "sql",
                "azdata_cell_guid": "879f1ba0-3aa3-44be-967b-f7d09e5c6088"
            },
            "outputs": [],
            "execution_count": null
        }
    ]
}